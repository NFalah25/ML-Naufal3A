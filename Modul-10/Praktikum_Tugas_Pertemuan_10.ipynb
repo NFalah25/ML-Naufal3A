{
  "cells": [
    {
      "cell_type": "markdown",
      "metadata": {
        "id": "view-in-github",
        "colab_type": "text"
      },
      "source": [
        "<a href=\"https://colab.research.google.com/github/NFalah25/ML-Naufal3A/blob/main/Modul-10/Praktikum_Tugas_Pertemuan_10.ipynb\" target=\"_parent\"><img src=\"https://colab.research.google.com/assets/colab-badge.svg\" alt=\"Open In Colab\"/></a>"
      ]
    },
    {
      "cell_type": "markdown",
      "metadata": {
        "id": "rBHMZeXL0PFG"
      },
      "source": [
        "# Nama : Naufal Falah Wafiuddin\n",
        "# Kelas : TI - 3A\n",
        "# Absen : 23\n",
        "# NIM : 2141720129"
      ]
    },
    {
      "cell_type": "markdown",
      "metadata": {
        "id": "tw6e-OGO0PFI"
      },
      "source": [
        "## Praktikum 1"
      ]
    },
    {
      "cell_type": "markdown",
      "metadata": {
        "id": "f_bC9TF-0PFJ"
      },
      "source": [
        "RNN untuk Analisis Sentimen"
      ]
    },
    {
      "cell_type": "markdown",
      "metadata": {
        "id": "WfaL6BTe0PFJ"
      },
      "source": [
        "### Setup"
      ]
    },
    {
      "cell_type": "code",
      "execution_count": null,
      "metadata": {
        "id": "AEuLzmvH0PFJ"
      },
      "outputs": [],
      "source": [
        "import numpy as np\n",
        "import tensorflow_datasets as tfds\n",
        "import tensorflow as tf\n",
        "\n",
        "tfds.disable_progress_bar()"
      ]
    },
    {
      "cell_type": "code",
      "execution_count": null,
      "metadata": {
        "id": "ByUBOW6U0PFK"
      },
      "outputs": [],
      "source": [
        "import matplotlib.pyplot as plt\n",
        "\n",
        "def plot_graphs(history, metric):\n",
        "        plt.plot(history.history[metric])\n",
        "        plt.plot(history.history['val_'+metric], '')\n",
        "        plt.xlabel(\"Epochs\")\n",
        "        plt.ylabel(metric)\n",
        "        plt.legend([metric, 'val_'+metric])"
      ]
    },
    {
      "cell_type": "markdown",
      "metadata": {
        "id": "2wsD_y_b0PFL"
      },
      "source": [
        "### Setup Input Pipline"
      ]
    },
    {
      "cell_type": "code",
      "execution_count": null,
      "metadata": {
        "id": "UAM9GOa10PFL",
        "outputId": "7eed509c-bd44-4c70-a7a3-6eeeedc8ab9e"
      },
      "outputs": [
        {
          "data": {
            "text/plain": [
              "(TensorSpec(shape=(), dtype=tf.string, name=None),\n",
              " TensorSpec(shape=(), dtype=tf.int64, name=None))"
            ]
          },
          "execution_count": 55,
          "metadata": {},
          "output_type": "execute_result"
        }
      ],
      "source": [
        "dataset, info = tfds.load('imdb_reviews', with_info=True,\n",
        "                          as_supervised=True)\n",
        "train_dataset, test_dataset = dataset['train'], dataset['test']\n",
        "\n",
        "train_dataset.element_spec"
      ]
    },
    {
      "cell_type": "code",
      "execution_count": null,
      "metadata": {
        "id": "yQfCmIuV0PFM",
        "outputId": "00808376-fa11-4324-99fe-a831547983a0"
      },
      "outputs": [
        {
          "name": "stdout",
          "output_type": "stream",
          "text": [
            "text:  b\"This was an absolutely terrible movie. Don't be lured in by Christopher Walken or Michael Ironside. Both are great actors, but this must simply be their worst role in history. Even their great acting could not redeem this movie's ridiculous storyline. This movie is an early nineties US propaganda piece. The most pathetic scenes were those when the Columbian rebels were making their cases for revolutions. Maria Conchita Alonso appeared phony, and her pseudo-love affair with Walken was nothing but a pathetic emotional plug in a movie that was devoid of any real meaning. I am disappointed that there are movies like this, ruining actor's like Christopher Walken's good name. I could barely sit through it.\"\n",
            "label:  0\n"
          ]
        },
        {
          "name": "stderr",
          "output_type": "stream",
          "text": [
            "2023-11-05 14:28:13.461274: W tensorflow/core/kernels/data/cache_dataset_ops.cc:854] The calling iterator did not fully read the dataset being cached. In order to avoid unexpected truncation of the dataset, the partially cached contents of the dataset  will be discarded. This can happen if you have an input pipeline similar to `dataset.cache().take(k).repeat()`. You should use `dataset.take(k).cache().repeat()` instead.\n"
          ]
        }
      ],
      "source": [
        "for example, label in train_dataset.take(1):\n",
        "  print('text: ', example.numpy())\n",
        "  print('label: ', label.numpy())"
      ]
    },
    {
      "cell_type": "code",
      "execution_count": null,
      "metadata": {
        "id": "la5J5GDT0PFM",
        "outputId": "e92574c4-6fe2-426c-adc8-edd3adf73309"
      },
      "outputs": [
        {
          "name": "stdout",
          "output_type": "stream",
          "text": [
            "texts:  [b\"OK, it was a good American Pie. Erick Stifler goes off to college with his buddy Cooze. During their arrival they meet up with Eric's cousin Dwight. The two pledge to become Betas and along the way they get involved with a whole lot of sex, tits, and some hot girls along the way. In a few words there is a lot more sex, nudity and alcohol. It is a good movie for those who want to enjoy an American Pie movie, granted it isn't as great as the first three is is a good movie. If you enjoy hot girls with really nice tits, get this movie. If you enjoy seeing a bunch of dudes making assholes of themselves, go to this movie. If you want to see the full thing, get the unrated addition. One last thing this is a better attempt than the last two American Pies.\"\n",
            " b\"I saw this movie at the 18th Haifa film festival, and it is one of the best I've seen this year. Seeing it on a big screen (and I mean BIG, not one of those TV screens most cinemas have) with an excellent sound system always enhance the cinematic experience, as the movie takes over your eyes and ears and sucks you into the story, into the picture.<br /><br />The movie presents a set of characters, which are loosely inter-connected. Their stories cross at certain points, and the multiplicity of story lines reminded me very much of the great Robert Altman and his exquisite films. But the true hero of the movie is obviously the city of Madrid, which provides the backdrop for the entire movie. It houses the characters, contains the pavements and roads on which they walk, and sets the background atmosphere for all the events, all in beautifully filmed scenes.<br /><br />The movie returns again and again to certain themes (shoes, for instance), and in essence Salazar makes his metaphores more and more understandable to the viewer as the movie progresses. He combines the views of the city with the shots of the characters, and elegantly matches the feeling of the scene to the background. A set of talented actors helps him portrait a wide variety of characters. One excellent example is the scene in which Juaquin takes Anita across the street for the first time. It might not work on a small screen, but it gave me goose bumps easily on a big screen.<br /><br />The message of the movie is very positive, and accordingly the movie is light and funny at times. The music along the movie is usually pop, with a few instrumental pieces (I hope to put my hand on the soundtrack one day, although I seriously doubt I will).<br /><br />All together, I came out of this movie with a sensational feeling, and I'm not easily impressed (you'll have to take my word for it). For this and more I give this movie a solid 8/10.\"\n",
            " b'What an entertaining movie. Astaire and Randolph Scott are in the Navy. Astaire has to woo back Ginger in San Francisco, while Scott must be persuaded that Harriet Hilliard is worthy of being his wife. Everything works out fine.<br /><br />It\\'s sometimes argued, and I can see why, that Scott\\'s romance with Hilliard is unnecessary and slows the plot down. Especially painful are Hilliard\\'s singing of sappy love songs. I could have done without her singing, right enough, but I found the romance rather touching. Hilliard enters the movie as a music teacher, wearing a pair of spectacles, no makeup, and the ugliest clothes known to man or beast. No wonder Scott avoids her until she grooms herself sexily under the tutelage of her sister Ginger and a slinky Lucille Ball. The problem is that AFTER her makeover she looks like the same irretrievably plain woman as before, only with a glossier outfit. It\\'s tough enough for a homely guy. But at least a man can become wealthy and powerful and popular, then he can collect women anyway, even if he looks like JoJo the Dog-Faced Boy. But what does a plain-looking woman do? The same avenues to romance aren\\'t open to her. Henry Kissinger had groupies. Did Margaret Thatcher? It must be terrible to be an ordinary woman in a culture as cruel as ours. As a kind of a footnote, I must mention that Randolph Scott was rumored to be bisexual by Hollywood gossips who needed some nonsense to chew on, and it\\'s kind of amusing that he has the following line in this film when he\\'s putting homely Hilliard off -- \"Women don\\'t interest me, sister.\" The movie probably gives more quality time to Ginger Rogers than any of her other films with Astaire. And she\\'s marvelous. She\\'s beautiful, sexy, a talented actress and dancer, and the script gives her good comic lines too. \"Let\\'s kiss and make up,\" suggests Astaire. \"Let\\'s just make up,\" she says, \"that will give you something to work on.\" It\\'s also the only film she made with Astaire that gives her a solo number during an audition. (Choreographed by Hermes Pan.) Her performance is accidentally sabotaged by Astaire who slips some Alka Seltzer or something into her water, and she hiccups through her number, burping being too indelicate for the time.<br /><br />As a dancer, I\\'d make a terrific circus elephant so my opinion must be taken as that of an amateur, but I think their dances together are the equal of any they put on film. Their first, during a dancing contest, \"Let Yourself Go,\" is the most wildly exuberant of any I can remember. And the only dramatic duet, \"Let\\'s Face the Music and Dance,\" must be among their finest. The last step as they exit is startling.<br /><br />I like the film for reasons with personal resonance. I remember seeing it for the first time in a theater in downtown San Diego, next to a shop called \"The Seven Seas\" that catered to sailors. I was in uniform at the time and was impressed with the treatment of the naval careers of Astaire and Scott. What I mean is, here we have this frothy musical comedy which owed absolutely nothing to historical reality, and yet, unlike most of their other teamings, pays its dues anyway. Jumping ship, Astaire calls out for a \"water taxi.\" I had just taken a water taxi ashore myself. The uniforms are correct to the period (unlike, say, those in \"On the Town\"). And they\\'re worn properly, hats down to two finger-widths above the eyebrow and not cocked back. And there are two incidents in which Astaire runs into a problem with naval authorities and they\\'re both handled with perfect seriousness and are thoroughly believable. An officer stops Astaire from leading a jazz band during inspection and reports to the captain, \"They were playing when the call was sounded, sir. I\\'m certain no breach of discipline was intended.\" It\\'s what an officer -- a good officer -- would say, and nobody laughs.<br /><br />The series was getting a little repetitious by the time \"Follow the Fleet\" was made so instead of putting Fred into high society and a tuxedo, they turned him into a gum-chewing swabbie instead. It was a good idea. And the dance numbers are up to the concept.']\n",
            "\n",
            "labels:  [1 1 1]\n"
          ]
        },
        {
          "name": "stderr",
          "output_type": "stream",
          "text": [
            "2023-11-05 14:28:14.152507: W tensorflow/core/kernels/data/cache_dataset_ops.cc:854] The calling iterator did not fully read the dataset being cached. In order to avoid unexpected truncation of the dataset, the partially cached contents of the dataset  will be discarded. This can happen if you have an input pipeline similar to `dataset.cache().take(k).repeat()`. You should use `dataset.take(k).cache().repeat()` instead.\n"
          ]
        }
      ],
      "source": [
        "BUFFER_SIZE = 10000\n",
        "BATCH_SIZE = 64\n",
        "\n",
        "train_dataset = train_dataset.shuffle(BUFFER_SIZE).batch(BATCH_SIZE).prefetch(tf.data.AUTOTUNE)\n",
        "test_dataset = test_dataset.batch(BATCH_SIZE).prefetch(tf.data.AUTOTUNE)\n",
        "\n",
        "for example, label in train_dataset.take(1):\n",
        "  print('texts: ', example.numpy()[:3])\n",
        "  print()\n",
        "  print('labels: ', label.numpy()[:3])\n"
      ]
    },
    {
      "cell_type": "markdown",
      "metadata": {
        "id": "R0T-zVNE0PFN"
      },
      "source": [
        "### Buat Teks Encoder"
      ]
    },
    {
      "cell_type": "code",
      "execution_count": null,
      "metadata": {
        "id": "P9U1FB430PFN"
      },
      "outputs": [],
      "source": [
        "VOCAB_SIZE = 1000\n",
        "encoder = tf.keras.layers.TextVectorization(\n",
        "    max_tokens=VOCAB_SIZE)\n",
        "encoder.adapt(train_dataset.map(lambda text, label: text))"
      ]
    },
    {
      "cell_type": "code",
      "execution_count": null,
      "metadata": {
        "id": "P2OS-kHw0PFN",
        "outputId": "688ad4a8-aaed-45ad-92a7-1166273446da"
      },
      "outputs": [
        {
          "data": {
            "text/plain": [
              "array(['', '[UNK]', 'the', 'and', 'a', 'of', 'to', 'is', 'in', 'it', 'i',\n",
              "       'this', 'that', 'br', 'was', 'as', 'for', 'with', 'movie', 'but'],\n",
              "      dtype='<U14')"
            ]
          },
          "execution_count": 59,
          "metadata": {},
          "output_type": "execute_result"
        }
      ],
      "source": [
        "vocab = np.array(encoder.get_vocabulary())\n",
        "vocab[:20]"
      ]
    },
    {
      "cell_type": "code",
      "execution_count": null,
      "metadata": {
        "id": "enPib9QX0PFN",
        "outputId": "9239ca6c-779e-46ed-ebd2-842f9dc40f11"
      },
      "outputs": [
        {
          "data": {
            "text/plain": [
              "array([[597,   9,  14, ...,   0,   0,   0],\n",
              "       [ 10, 208,  11, ...,   0,   0,   0],\n",
              "       [ 49,  34, 441, ...,   0,   0,   0]])"
            ]
          },
          "execution_count": 60,
          "metadata": {},
          "output_type": "execute_result"
        }
      ],
      "source": [
        "encoded_example = encoder(example)[:3].numpy()\n",
        "encoded_example"
      ]
    },
    {
      "cell_type": "code",
      "execution_count": null,
      "metadata": {
        "id": "kcCQZeWC0PFN",
        "outputId": "73d2869b-9772-4948-8568-0b894bd2be00"
      },
      "outputs": [
        {
          "name": "stdout",
          "output_type": "stream",
          "text": [
            "Original:  b\"OK, it was a good American Pie. Erick Stifler goes off to college with his buddy Cooze. During their arrival they meet up with Eric's cousin Dwight. The two pledge to become Betas and along the way they get involved with a whole lot of sex, tits, and some hot girls along the way. In a few words there is a lot more sex, nudity and alcohol. It is a good movie for those who want to enjoy an American Pie movie, granted it isn't as great as the first three is is a good movie. If you enjoy hot girls with really nice tits, get this movie. If you enjoy seeing a bunch of dudes making assholes of themselves, go to this movie. If you want to see the full thing, get the unrated addition. One last thing this is a better attempt than the last two American Pies.\"\n",
            "Round-trip:  ok it was a good american [UNK] [UNK] [UNK] goes off to [UNK] with his [UNK] [UNK] during their [UNK] they meet up with [UNK] [UNK] [UNK] the two [UNK] to become [UNK] and along the way they get involved with a whole lot of sex [UNK] and some hot girls along the way in a few words there is a lot more sex [UNK] and [UNK] it is a good movie for those who want to enjoy an american [UNK] movie [UNK] it isnt as great as the first three is is a good movie if you enjoy hot girls with really nice [UNK] get this movie if you enjoy seeing a bunch of [UNK] making [UNK] of themselves go to this movie if you want to see the full thing get the [UNK] [UNK] one last thing this is a better attempt than the last two american [UNK]                                                                                                                                                                                                                                                                                                                                                                                                                                                                                                                                                                                                                                                                                                                                                                                                         \n",
            "\n",
            "Original:  b\"I saw this movie at the 18th Haifa film festival, and it is one of the best I've seen this year. Seeing it on a big screen (and I mean BIG, not one of those TV screens most cinemas have) with an excellent sound system always enhance the cinematic experience, as the movie takes over your eyes and ears and sucks you into the story, into the picture.<br /><br />The movie presents a set of characters, which are loosely inter-connected. Their stories cross at certain points, and the multiplicity of story lines reminded me very much of the great Robert Altman and his exquisite films. But the true hero of the movie is obviously the city of Madrid, which provides the backdrop for the entire movie. It houses the characters, contains the pavements and roads on which they walk, and sets the background atmosphere for all the events, all in beautifully filmed scenes.<br /><br />The movie returns again and again to certain themes (shoes, for instance), and in essence Salazar makes his metaphores more and more understandable to the viewer as the movie progresses. He combines the views of the city with the shots of the characters, and elegantly matches the feeling of the scene to the background. A set of talented actors helps him portrait a wide variety of characters. One excellent example is the scene in which Juaquin takes Anita across the street for the first time. It might not work on a small screen, but it gave me goose bumps easily on a big screen.<br /><br />The message of the movie is very positive, and accordingly the movie is light and funny at times. The music along the movie is usually pop, with a few instrumental pieces (I hope to put my hand on the soundtrack one day, although I seriously doubt I will).<br /><br />All together, I came out of this movie with a sensational feeling, and I'm not easily impressed (you'll have to take my word for it). For this and more I give this movie a solid 8/10.\"\n",
            "Round-trip:  i saw this movie at the [UNK] [UNK] film [UNK] and it is one of the best ive seen this year seeing it on a big screen and i mean big not one of those tv [UNK] most [UNK] have with an excellent sound [UNK] always [UNK] the [UNK] experience as the movie takes over your eyes and [UNK] and [UNK] you into the story into the [UNK] br the movie [UNK] a set of characters which are [UNK] [UNK] their stories [UNK] at certain points and the [UNK] of story lines [UNK] me very much of the great robert [UNK] and his [UNK] films but the true hero of the movie is obviously the city of [UNK] which [UNK] the [UNK] for the entire movie it [UNK] the characters [UNK] the [UNK] and [UNK] on which they [UNK] and sets the background atmosphere for all the events all in [UNK] filmed [UNK] br the movie [UNK] again and again to certain [UNK] [UNK] for [UNK] and in [UNK] [UNK] makes his [UNK] more and more [UNK] to the viewer as the movie [UNK] he [UNK] the [UNK] of the city with the shots of the characters and [UNK] [UNK] the feeling of the scene to the background a set of [UNK] actors [UNK] him [UNK] a [UNK] [UNK] of characters one excellent example is the scene in which [UNK] takes [UNK] across the street for the first time it might not work on a small screen but it gave me [UNK] [UNK] easily on a big [UNK] br the message of the movie is very [UNK] and [UNK] the movie is light and funny at times the music along the movie is usually [UNK] with a few [UNK] [UNK] i hope to put my hand on the soundtrack one day although i seriously doubt i [UNK] br all together i came out of this movie with a [UNK] feeling and im not easily [UNK] youll have to take my word for it for this and more i give this movie a [UNK] [UNK]                                                                                                                                                                                                                                                                                                                                                                                                                                                                                                                                                                                                       \n",
            "\n",
            "Original:  b'What an entertaining movie. Astaire and Randolph Scott are in the Navy. Astaire has to woo back Ginger in San Francisco, while Scott must be persuaded that Harriet Hilliard is worthy of being his wife. Everything works out fine.<br /><br />It\\'s sometimes argued, and I can see why, that Scott\\'s romance with Hilliard is unnecessary and slows the plot down. Especially painful are Hilliard\\'s singing of sappy love songs. I could have done without her singing, right enough, but I found the romance rather touching. Hilliard enters the movie as a music teacher, wearing a pair of spectacles, no makeup, and the ugliest clothes known to man or beast. No wonder Scott avoids her until she grooms herself sexily under the tutelage of her sister Ginger and a slinky Lucille Ball. The problem is that AFTER her makeover she looks like the same irretrievably plain woman as before, only with a glossier outfit. It\\'s tough enough for a homely guy. But at least a man can become wealthy and powerful and popular, then he can collect women anyway, even if he looks like JoJo the Dog-Faced Boy. But what does a plain-looking woman do? The same avenues to romance aren\\'t open to her. Henry Kissinger had groupies. Did Margaret Thatcher? It must be terrible to be an ordinary woman in a culture as cruel as ours. As a kind of a footnote, I must mention that Randolph Scott was rumored to be bisexual by Hollywood gossips who needed some nonsense to chew on, and it\\'s kind of amusing that he has the following line in this film when he\\'s putting homely Hilliard off -- \"Women don\\'t interest me, sister.\" The movie probably gives more quality time to Ginger Rogers than any of her other films with Astaire. And she\\'s marvelous. She\\'s beautiful, sexy, a talented actress and dancer, and the script gives her good comic lines too. \"Let\\'s kiss and make up,\" suggests Astaire. \"Let\\'s just make up,\" she says, \"that will give you something to work on.\" It\\'s also the only film she made with Astaire that gives her a solo number during an audition. (Choreographed by Hermes Pan.) Her performance is accidentally sabotaged by Astaire who slips some Alka Seltzer or something into her water, and she hiccups through her number, burping being too indelicate for the time.<br /><br />As a dancer, I\\'d make a terrific circus elephant so my opinion must be taken as that of an amateur, but I think their dances together are the equal of any they put on film. Their first, during a dancing contest, \"Let Yourself Go,\" is the most wildly exuberant of any I can remember. And the only dramatic duet, \"Let\\'s Face the Music and Dance,\" must be among their finest. The last step as they exit is startling.<br /><br />I like the film for reasons with personal resonance. I remember seeing it for the first time in a theater in downtown San Diego, next to a shop called \"The Seven Seas\" that catered to sailors. I was in uniform at the time and was impressed with the treatment of the naval careers of Astaire and Scott. What I mean is, here we have this frothy musical comedy which owed absolutely nothing to historical reality, and yet, unlike most of their other teamings, pays its dues anyway. Jumping ship, Astaire calls out for a \"water taxi.\" I had just taken a water taxi ashore myself. The uniforms are correct to the period (unlike, say, those in \"On the Town\"). And they\\'re worn properly, hats down to two finger-widths above the eyebrow and not cocked back. And there are two incidents in which Astaire runs into a problem with naval authorities and they\\'re both handled with perfect seriousness and are thoroughly believable. An officer stops Astaire from leading a jazz band during inspection and reports to the captain, \"They were playing when the call was sounded, sir. I\\'m certain no breach of discipline was intended.\" It\\'s what an officer -- a good officer -- would say, and nobody laughs.<br /><br />The series was getting a little repetitious by the time \"Follow the Fleet\" was made so instead of putting Fred into high society and a tuxedo, they turned him into a gum-chewing swabbie instead. It was a good idea. And the dance numbers are up to the concept.'\n",
            "Round-trip:  what an entertaining movie [UNK] and [UNK] [UNK] are in the [UNK] [UNK] has to [UNK] back [UNK] in [UNK] [UNK] while [UNK] must be [UNK] that [UNK] [UNK] is [UNK] of being his wife everything works out [UNK] br its sometimes [UNK] and i can see why that [UNK] romance with [UNK] is [UNK] and [UNK] the plot down especially [UNK] are [UNK] [UNK] of [UNK] love songs i could have done without her [UNK] right enough but i found the romance rather [UNK] [UNK] [UNK] the movie as a music [UNK] [UNK] a [UNK] of [UNK] no [UNK] and the [UNK] [UNK] known to man or [UNK] no wonder [UNK] [UNK] her until she [UNK] herself [UNK] under the [UNK] of her sister [UNK] and a [UNK] [UNK] [UNK] the problem is that after her [UNK] she looks like the same [UNK] [UNK] woman as before only with a [UNK] [UNK] its [UNK] enough for a [UNK] guy but at least a man can become [UNK] and powerful and [UNK] then he can [UNK] women anyway even if he looks like [UNK] the [UNK] boy but what does a [UNK] woman do the same [UNK] to romance arent open to her [UNK] [UNK] had [UNK] did [UNK] [UNK] it must be terrible to be an [UNK] woman in a [UNK] as [UNK] as [UNK] as a kind of a [UNK] i must mention that [UNK] [UNK] was [UNK] to be [UNK] by hollywood [UNK] who needed some [UNK] to [UNK] on and its kind of [UNK] that he has the [UNK] line in this film when hes [UNK] [UNK] [UNK] off women dont interest me sister the movie probably gives more quality time to [UNK] [UNK] than any of her other films with [UNK] and shes [UNK] shes beautiful [UNK] a [UNK] actress and [UNK] and the script gives her good comic lines too lets [UNK] and make up [UNK] [UNK] lets just make up she says that will give you something to work on its also the only film she made with [UNK] that gives her a [UNK] number during an [UNK] [UNK] by [UNK] [UNK] her performance is [UNK] [UNK] by [UNK] who [UNK] some [UNK] [UNK] or something into her [UNK] and she [UNK] through her number [UNK] being too [UNK] for the [UNK] br as a [UNK] id make a [UNK] [UNK] [UNK] so my opinion must be taken as that of an [UNK] but i think their [UNK] together are the [UNK] of any they put on film their first during a [UNK] [UNK] let yourself go is the most [UNK] [UNK] of any i can remember and the only dramatic [UNK] lets face the music and dance must be among their [UNK] the last [UNK] as they [UNK] is [UNK] br i like the film for [UNK] with personal [UNK] i remember seeing it for the first time in a theater in [UNK] [UNK] [UNK] next to a [UNK] called the [UNK] [UNK] that [UNK] to [UNK] i was in [UNK] at the time and was [UNK] with the [UNK] of the [UNK] [UNK] of [UNK] and [UNK] what i mean is here we have this [UNK] musical comedy which [UNK] absolutely nothing to [UNK] reality and yet unlike most of their other [UNK] [UNK] its [UNK] anyway [UNK] [UNK] [UNK] [UNK] out for a [UNK] [UNK] i had just taken a [UNK] [UNK] [UNK] myself the [UNK] are [UNK] to the period unlike say those in on the town and theyre [UNK] [UNK] [UNK] down to two [UNK] above the [UNK] and not [UNK] back and there are two [UNK] in which [UNK] [UNK] into a problem with [UNK] [UNK] and theyre both [UNK] with perfect [UNK] and are [UNK] believable an [UNK] [UNK] [UNK] from leading a [UNK] [UNK] during [UNK] and [UNK] to the [UNK] they were playing when the call was [UNK] [UNK] im certain no [UNK] of [UNK] was [UNK] its what an [UNK] a good [UNK] would say and [UNK] [UNK] br the series was getting a little [UNK] by the time follow the [UNK] was made so instead of [UNK] [UNK] into high society and a [UNK] they turned him into a [UNK] [UNK] instead it was a good idea and the dance [UNK] are up to the [UNK]                                                                                                                                                                                                           \n",
            "\n"
          ]
        }
      ],
      "source": [
        "for n in range(3):\n",
        "  print(\"Original: \", example[n].numpy())\n",
        "  print(\"Round-trip: \", \" \".join(vocab[encoded_example[n]]))\n",
        "  print()"
      ]
    },
    {
      "cell_type": "markdown",
      "metadata": {
        "id": "m0v6iXQK0PFO"
      },
      "source": [
        "### Buat Model"
      ]
    },
    {
      "cell_type": "code",
      "execution_count": null,
      "metadata": {
        "id": "aQ9MMmdR0PFO"
      },
      "outputs": [],
      "source": [
        "model = tf.keras.Sequential([\n",
        "    encoder,\n",
        "    tf.keras.layers.Embedding(\n",
        "        input_dim=len(encoder.get_vocabulary()),\n",
        "        output_dim=64,\n",
        "        # Use masking to handle the variable sequence lengths\n",
        "        mask_zero=True),\n",
        "    tf.keras.layers.Bidirectional(tf.keras.layers.LSTM(64)),\n",
        "    tf.keras.layers.Dense(64, activation='relu'),\n",
        "    tf.keras.layers.Dense(1)\n",
        "])"
      ]
    },
    {
      "cell_type": "code",
      "execution_count": null,
      "metadata": {
        "id": "3YYSHuIY0PFO",
        "outputId": "5801ae61-06fd-4941-e343-5533b23de485"
      },
      "outputs": [
        {
          "name": "stdout",
          "output_type": "stream",
          "text": [
            "[False, True, True, True, True]\n"
          ]
        }
      ],
      "source": [
        "print([layer.supports_masking for layer in model.layers])"
      ]
    },
    {
      "cell_type": "code",
      "execution_count": null,
      "metadata": {
        "id": "mL46s26O0PFO",
        "outputId": "e6786fc7-4ba8-48fe-bba0-b213600e9164"
      },
      "outputs": [
        {
          "name": "stdout",
          "output_type": "stream",
          "text": [
            "1/1 [==============================] - 5s 5s/step\n",
            "[-0.01358242]\n"
          ]
        }
      ],
      "source": [
        "# predict on a sample text without padding.\n",
        "\n",
        "sample_text = ('The movie was cool. The animation and the graphics '\n",
        "               'were out of this world. I would recommend this movie.')\n",
        "predictions = model.predict(np.array([sample_text]))\n",
        "print(predictions[0])"
      ]
    },
    {
      "cell_type": "code",
      "execution_count": null,
      "metadata": {
        "id": "YDWCpb5f0PFO",
        "outputId": "93a0aa2c-bef3-4124-f216-9e9233aa3435"
      },
      "outputs": [
        {
          "name": "stdout",
          "output_type": "stream",
          "text": [
            "1/1 [==============================] - 0s 197ms/step\n",
            "[-0.01358242]\n"
          ]
        }
      ],
      "source": [
        "# predict on a sample text with padding\n",
        "\n",
        "padding = \"the \" * 2000\n",
        "predictions = model.predict(np.array([sample_text, padding]))\n",
        "print(predictions[0])"
      ]
    },
    {
      "cell_type": "code",
      "execution_count": null,
      "metadata": {
        "id": "LXauDxpi0PFP"
      },
      "outputs": [],
      "source": [
        "model.compile(loss=tf.keras.losses.BinaryCrossentropy(from_logits=True),\n",
        "              optimizer=tf.keras.optimizers.Adam(1e-4),\n",
        "              metrics=['accuracy'])"
      ]
    },
    {
      "cell_type": "markdown",
      "metadata": {
        "id": "SdgHwkkr0PFP"
      },
      "source": [
        "### Train Model"
      ]
    },
    {
      "cell_type": "code",
      "execution_count": null,
      "metadata": {
        "id": "D36z3dr50PFP",
        "outputId": "872877ae-3942-4a89-cacd-d8df336f971b"
      },
      "outputs": [
        {
          "name": "stdout",
          "output_type": "stream",
          "text": [
            "Epoch 1/10\n"
          ]
        },
        {
          "name": "stderr",
          "output_type": "stream",
          "text": [
            "2023-11-05 14:28:39.591680: W tensorflow/core/common_runtime/type_inference.cc:339] Type inference failed. This indicates an invalid graph that escaped type checking. Error message: INVALID_ARGUMENT: expected compatible input types, but input 1:\n",
            "type_id: TFT_OPTIONAL\n",
            "args {\n",
            "  type_id: TFT_PRODUCT\n",
            "  args {\n",
            "    type_id: TFT_TENSOR\n",
            "    args {\n",
            "      type_id: TFT_INT32\n",
            "    }\n",
            "  }\n",
            "}\n",
            " is neither a subtype nor a supertype of the combined inputs preceding it:\n",
            "type_id: TFT_OPTIONAL\n",
            "args {\n",
            "  type_id: TFT_PRODUCT\n",
            "  args {\n",
            "    type_id: TFT_TENSOR\n",
            "    args {\n",
            "      type_id: TFT_FLOAT\n",
            "    }\n",
            "  }\n",
            "}\n",
            "\n",
            "\tfor Tuple type infernce function 0\n",
            "\twhile inferring type of node 'cond_40/output/_23'\n"
          ]
        },
        {
          "name": "stdout",
          "output_type": "stream",
          "text": [
            "391/391 [==============================] - 106s 237ms/step - loss: 0.6305 - accuracy: 0.5850 - val_loss: 0.4748 - val_accuracy: 0.7880\n",
            "Epoch 2/10\n"
          ]
        },
        {
          "name": "stderr",
          "output_type": "stream",
          "text": [
            "2023-11-05 14:30:14.869380: W tensorflow/core/kernels/data/cache_dataset_ops.cc:854] The calling iterator did not fully read the dataset being cached. In order to avoid unexpected truncation of the dataset, the partially cached contents of the dataset  will be discarded. This can happen if you have an input pipeline similar to `dataset.cache().take(k).repeat()`. You should use `dataset.take(k).cache().repeat()` instead.\n"
          ]
        },
        {
          "name": "stdout",
          "output_type": "stream",
          "text": [
            "391/391 [==============================] - 77s 197ms/step - loss: 0.3975 - accuracy: 0.8187 - val_loss: 0.3626 - val_accuracy: 0.8313\n",
            "Epoch 3/10\n"
          ]
        },
        {
          "name": "stderr",
          "output_type": "stream",
          "text": [
            "2023-11-05 14:31:32.060761: W tensorflow/core/kernels/data/cache_dataset_ops.cc:854] The calling iterator did not fully read the dataset being cached. In order to avoid unexpected truncation of the dataset, the partially cached contents of the dataset  will be discarded. This can happen if you have an input pipeline similar to `dataset.cache().take(k).repeat()`. You should use `dataset.take(k).cache().repeat()` instead.\n"
          ]
        },
        {
          "name": "stdout",
          "output_type": "stream",
          "text": [
            "391/391 [==============================] - 78s 199ms/step - loss: 0.3373 - accuracy: 0.8520 - val_loss: 0.3378 - val_accuracy: 0.8552\n",
            "Epoch 4/10\n"
          ]
        },
        {
          "name": "stderr",
          "output_type": "stream",
          "text": [
            "2023-11-05 14:32:50.008862: W tensorflow/core/kernels/data/cache_dataset_ops.cc:854] The calling iterator did not fully read the dataset being cached. In order to avoid unexpected truncation of the dataset, the partially cached contents of the dataset  will be discarded. This can happen if you have an input pipeline similar to `dataset.cache().take(k).repeat()`. You should use `dataset.take(k).cache().repeat()` instead.\n"
          ]
        },
        {
          "name": "stdout",
          "output_type": "stream",
          "text": [
            "391/391 [==============================] - 78s 198ms/step - loss: 0.3220 - accuracy: 0.8602 - val_loss: 0.3417 - val_accuracy: 0.8484\n",
            "Epoch 5/10\n"
          ]
        },
        {
          "name": "stderr",
          "output_type": "stream",
          "text": [
            "2023-11-05 14:34:07.553508: W tensorflow/core/kernels/data/cache_dataset_ops.cc:854] The calling iterator did not fully read the dataset being cached. In order to avoid unexpected truncation of the dataset, the partially cached contents of the dataset  will be discarded. This can happen if you have an input pipeline similar to `dataset.cache().take(k).repeat()`. You should use `dataset.take(k).cache().repeat()` instead.\n"
          ]
        },
        {
          "name": "stdout",
          "output_type": "stream",
          "text": [
            "391/391 [==============================] - 74s 189ms/step - loss: 0.3130 - accuracy: 0.8654 - val_loss: 0.3306 - val_accuracy: 0.8594\n",
            "Epoch 6/10\n"
          ]
        },
        {
          "name": "stderr",
          "output_type": "stream",
          "text": [
            "2023-11-05 14:35:21.758701: W tensorflow/core/kernels/data/cache_dataset_ops.cc:854] The calling iterator did not fully read the dataset being cached. In order to avoid unexpected truncation of the dataset, the partially cached contents of the dataset  will be discarded. This can happen if you have an input pipeline similar to `dataset.cache().take(k).repeat()`. You should use `dataset.take(k).cache().repeat()` instead.\n"
          ]
        },
        {
          "name": "stdout",
          "output_type": "stream",
          "text": [
            "391/391 [==============================] - 74s 189ms/step - loss: 0.3073 - accuracy: 0.8681 - val_loss: 0.3279 - val_accuracy: 0.8490\n",
            "Epoch 7/10\n"
          ]
        },
        {
          "name": "stderr",
          "output_type": "stream",
          "text": [
            "2023-11-05 14:36:35.921427: W tensorflow/core/kernels/data/cache_dataset_ops.cc:854] The calling iterator did not fully read the dataset being cached. In order to avoid unexpected truncation of the dataset, the partially cached contents of the dataset  will be discarded. This can happen if you have an input pipeline similar to `dataset.cache().take(k).repeat()`. You should use `dataset.take(k).cache().repeat()` instead.\n"
          ]
        },
        {
          "name": "stdout",
          "output_type": "stream",
          "text": [
            "391/391 [==============================] - 75s 190ms/step - loss: 0.3051 - accuracy: 0.8678 - val_loss: 0.3277 - val_accuracy: 0.8573\n",
            "Epoch 8/10\n"
          ]
        },
        {
          "name": "stderr",
          "output_type": "stream",
          "text": [
            "2023-11-05 14:37:50.647138: W tensorflow/core/kernels/data/cache_dataset_ops.cc:854] The calling iterator did not fully read the dataset being cached. In order to avoid unexpected truncation of the dataset, the partially cached contents of the dataset  will be discarded. This can happen if you have an input pipeline similar to `dataset.cache().take(k).repeat()`. You should use `dataset.take(k).cache().repeat()` instead.\n"
          ]
        },
        {
          "name": "stdout",
          "output_type": "stream",
          "text": [
            "391/391 [==============================] - 75s 190ms/step - loss: 0.3027 - accuracy: 0.8709 - val_loss: 0.3270 - val_accuracy: 0.8490\n",
            "Epoch 9/10\n"
          ]
        },
        {
          "name": "stderr",
          "output_type": "stream",
          "text": [
            "2023-11-05 14:39:05.284833: W tensorflow/core/kernels/data/cache_dataset_ops.cc:854] The calling iterator did not fully read the dataset being cached. In order to avoid unexpected truncation of the dataset, the partially cached contents of the dataset  will be discarded. This can happen if you have an input pipeline similar to `dataset.cache().take(k).repeat()`. You should use `dataset.take(k).cache().repeat()` instead.\n"
          ]
        },
        {
          "name": "stdout",
          "output_type": "stream",
          "text": [
            "391/391 [==============================] - 156s 398ms/step - loss: 0.3003 - accuracy: 0.8696 - val_loss: 0.3344 - val_accuracy: 0.8411\n",
            "Epoch 10/10\n"
          ]
        },
        {
          "name": "stderr",
          "output_type": "stream",
          "text": [
            "2023-11-05 14:41:40.895640: W tensorflow/core/kernels/data/cache_dataset_ops.cc:854] The calling iterator did not fully read the dataset being cached. In order to avoid unexpected truncation of the dataset, the partially cached contents of the dataset  will be discarded. This can happen if you have an input pipeline similar to `dataset.cache().take(k).repeat()`. You should use `dataset.take(k).cache().repeat()` instead.\n"
          ]
        },
        {
          "name": "stdout",
          "output_type": "stream",
          "text": [
            "391/391 [==============================] - 233s 595ms/step - loss: 0.3014 - accuracy: 0.8704 - val_loss: 0.3226 - val_accuracy: 0.8547\n"
          ]
        },
        {
          "name": "stderr",
          "output_type": "stream",
          "text": [
            "2023-11-05 14:45:33.994295: W tensorflow/core/kernels/data/cache_dataset_ops.cc:854] The calling iterator did not fully read the dataset being cached. In order to avoid unexpected truncation of the dataset, the partially cached contents of the dataset  will be discarded. This can happen if you have an input pipeline similar to `dataset.cache().take(k).repeat()`. You should use `dataset.take(k).cache().repeat()` instead.\n"
          ]
        }
      ],
      "source": [
        "history = model.fit(train_dataset, epochs=10,\n",
        "                    validation_data=test_dataset,\n",
        "                    validation_steps=30)"
      ]
    },
    {
      "cell_type": "code",
      "execution_count": null,
      "metadata": {
        "id": "ODPtG7tQ0PFP",
        "outputId": "255aaabe-4df9-4c86-834b-6aca174776c6"
      },
      "outputs": [
        {
          "name": "stdout",
          "output_type": "stream",
          "text": [
            "391/391 [==============================] - 83s 213ms/step - loss: 0.3165 - accuracy: 0.8582\n",
            "Test Loss: 0.31654608249664307\n",
            "Test Accuracy: 0.8581600189208984\n"
          ]
        }
      ],
      "source": [
        "test_loss, test_acc = model.evaluate(test_dataset)\n",
        "\n",
        "print('Test Loss:', test_loss)\n",
        "print('Test Accuracy:', test_acc)"
      ]
    },
    {
      "cell_type": "code",
      "execution_count": null,
      "metadata": {
        "id": "QjqdclQL0PFQ",
        "outputId": "73d88205-2f53-4965-9f1f-9b4db5719ae5"
      },
      "outputs": [
        {
          "data": {
            "text/plain": [
              "(0.0, 0.6469558849930763)"
            ]
          },
          "execution_count": 69,
          "metadata": {},
          "output_type": "execute_result"
        },
        {
          "data": {
            "image/png": "[encoded data removed]",
            "text/plain": [
              "<Figure size 1152x576 with 2 Axes>"
            ]
          },
          "metadata": {
            "needs_background": "light"
          },
          "output_type": "display_data"
        }
      ],
      "source": [
        "plt.figure(figsize=(16, 8))\n",
        "plt.subplot(1, 2, 1)\n",
        "plot_graphs(history, 'accuracy')\n",
        "plt.ylim(None, 1)\n",
        "plt.subplot(1, 2, 2)\n",
        "plot_graphs(history, 'loss')\n",
        "plt.ylim(0, None)"
      ]
    },
    {
      "cell_type": "code",
      "execution_count": null,
      "metadata": {
        "id": "wsYU-7Ng0PFQ",
        "outputId": "e94d3a1c-6c1b-4b79-ef8d-62c57cb74f2b"
      },
      "outputs": [
        {
          "name": "stdout",
          "output_type": "stream",
          "text": [
            "1/1 [==============================] - 2s 2s/step\n",
            "[0.92014045]\n"
          ]
        }
      ],
      "source": [
        "sample_text = ('The movie was cool. The animation and the graphics '\n",
        "               'were out of this world. I would recommend this movie.')\n",
        "predictions = model.predict(np.array([sample_text]))\n",
        "print(predictions[0])"
      ]
    },
    {
      "cell_type": "markdown",
      "metadata": {
        "id": "R9jwQ09R0PFQ"
      },
      "source": [
        "### Stack Two or More LSTM Layers"
      ]
    },
    {
      "cell_type": "code",
      "execution_count": null,
      "metadata": {
        "id": "JE-ZUk__0PFQ"
      },
      "outputs": [],
      "source": [
        "import tensorflow as tf\n",
        "from tensorflow.keras.layers import Dense, Embedding, LSTM, Bidirectional"
      ]
    },
    {
      "cell_type": "code",
      "execution_count": null,
      "metadata": {
        "id": "gBX0Mfrs0PFQ"
      },
      "outputs": [],
      "source": [
        "model = tf.keras.Sequential([encoder,\n",
        "                             tf.keras.layers.Embedding(len(encoder.get_vocabulary()), 64, mask_zero=True),\n",
        "                             tf.keras.layers.Bidirectional(tf.keras.layers.LSTM(64, return_sequences=True)),\n",
        "                             tf.keras.layers.Bidirectional(tf.keras.layers.LSTM(32)),\n",
        "                             tf.keras.layers.Dense(units=64, activation='relu'),\n",
        "                             tf.keras.layers.Dropout(0.5),\n",
        "                             tf.keras.layers.Dense(1)\n",
        "])\n"
      ]
    },
    {
      "cell_type": "code",
      "execution_count": null,
      "metadata": {
        "id": "s6Rw251i0PFR"
      },
      "outputs": [],
      "source": [
        "model.compile(loss=tf.keras.losses.BinaryCrossentropy(from_logits=True),\n",
        "              optimizer=tf.keras.optimizers.Adam(1e-4),\n",
        "              metrics=['accuracy'])"
      ]
    },
    {
      "cell_type": "code",
      "execution_count": null,
      "metadata": {
        "id": "1pDUbe_40PFR",
        "outputId": "20d0891f-9c6e-433b-bbde-591d8163a60a"
      },
      "outputs": [
        {
          "name": "stdout",
          "output_type": "stream",
          "text": [
            "Epoch 1/10\n"
          ]
        },
        {
          "name": "stdout",
          "output_type": "stream",
          "text": [
            "391/391 [==============================] - 232s 556ms/step - loss: 0.6395 - accuracy: 0.5526 - val_loss: 0.4629 - val_accuracy: 0.7979\n",
            "Epoch 2/10\n",
            "391/391 [==============================] - 145s 371ms/step - loss: 0.4226 - accuracy: 0.8136 - val_loss: 0.3781 - val_accuracy: 0.8313\n",
            "Epoch 3/10\n",
            "391/391 [==============================] - 139s 355ms/step - loss: 0.3671 - accuracy: 0.8428 - val_loss: 0.3484 - val_accuracy: 0.8495\n",
            "Epoch 4/10\n",
            "391/391 [==============================] - 136s 347ms/step - loss: 0.3506 - accuracy: 0.8490 - val_loss: 0.3994 - val_accuracy: 0.8135\n",
            "Epoch 5/10\n",
            "391/391 [==============================] - 142s 363ms/step - loss: 0.3319 - accuracy: 0.8580 - val_loss: 0.3279 - val_accuracy: 0.8573\n",
            "Epoch 6/10\n",
            "391/391 [==============================] - 139s 354ms/step - loss: 0.3166 - accuracy: 0.8667 - val_loss: 0.3223 - val_accuracy: 0.8620\n",
            "Epoch 7/10\n",
            "391/391 [==============================] - 140s 358ms/step - loss: 0.3126 - accuracy: 0.8694 - val_loss: 0.3184 - val_accuracy: 0.8578\n",
            "Epoch 8/10\n",
            "391/391 [==============================] - 142s 362ms/step - loss: 0.3086 - accuracy: 0.8684 - val_loss: 0.3172 - val_accuracy: 0.8557\n",
            "Epoch 9/10\n",
            "391/391 [==============================] - 197s 504ms/step - loss: 0.3045 - accuracy: 0.8708 - val_loss: 0.3201 - val_accuracy: 0.8641\n",
            "Epoch 10/10\n",
            "391/391 [==============================] - 136s 348ms/step - loss: 0.3039 - accuracy: 0.8713 - val_loss: 0.3363 - val_accuracy: 0.8589\n"
          ]
        }
      ],
      "source": [
        "history = model.fit(train_dataset, epochs=10,validation_data=test_dataset,validation_steps=30)"
      ]
    },
    {
      "cell_type": "code",
      "execution_count": null,
      "metadata": {
        "id": "cnHNi1-y0PFR",
        "outputId": "d25ec77d-efae-45c4-9323-1fd030dc2ce4"
      },
      "outputs": [
        {
          "name": "stdout",
          "output_type": "stream",
          "text": [
            "391/391 [==============================] - 42s 108ms/step - loss: 0.3346 - accuracy: 0.8622\n",
            "Test Loss: 0.3345785140991211\n",
            "Test Accuracy: 0.8621600270271301\n"
          ]
        }
      ],
      "source": [
        "test_loss, test_acc = model.evaluate(test_dataset)\n",
        "\n",
        "print('Test Loss:', test_loss)\n",
        "print('Test Accuracy:', test_acc)"
      ]
    },
    {
      "cell_type": "code",
      "execution_count": null,
      "metadata": {
        "id": "LVYKv7jd0PFR",
        "outputId": "2728a6c6-142c-4fcc-8482-dda3b20cbb81"
      },
      "outputs": [
        {
          "name": "stdout",
          "output_type": "stream",
          "text": [
            "1/1 [==============================] - 4s 4s/step\n",
            "[[-1.9061744]]\n"
          ]
        }
      ],
      "source": [
        "# predict on a sample text without padding.\n",
        "\n",
        "sample_text = ('The movie was not good. The animation and the graphics '\n",
        "               'were terrible. I would not recommend this movie.')\n",
        "predictions = model.predict(np.array([sample_text]))\n",
        "print(predictions)"
      ]
    },
    {
      "cell_type": "code",
      "execution_count": null,
      "metadata": {
        "id": "EqDtyZ_K0PFR",
        "outputId": "6970de69-e6a1-435e-dffa-ac9e6fce904d"
      },
      "outputs": [
        {
          "data": {
            "image/png": "[encoded data removed]",
            "text/plain": [
              "<Figure size 1152x432 with 2 Axes>"
            ]
          },
          "metadata": {
            "needs_background": "light"
          },
          "output_type": "display_data"
        }
      ],
      "source": [
        "plt.figure(figsize=(16, 6))\n",
        "plt.subplot(1, 2, 1)\n",
        "plot_graphs(history, 'accuracy')\n",
        "plt.subplot(1, 2, 2)\n",
        "plot_graphs(history, 'loss')"
      ]
    },
    {
      "cell_type": "markdown",
      "metadata": {
        "id": "He8d0ra20PFR"
      },
      "source": [
        "# Praktikum 2"
      ]
    },
    {
      "cell_type": "markdown",
      "metadata": {
        "id": "xSLITtAu0PFS"
      },
      "source": [
        "## Setup"
      ]
    },
    {
      "cell_type": "markdown",
      "metadata": {
        "id": "jBzX-V2D0PFS"
      },
      "source": [
        "### Import TensorFlow"
      ]
    },
    {
      "cell_type": "code",
      "execution_count": null,
      "metadata": {
        "id": "7ZwN8TiX0PFS"
      },
      "outputs": [],
      "source": [
        "import tensorflow as tf\n",
        "import numpy as np\n",
        "import os\n",
        "import time"
      ]
    },
    {
      "cell_type": "code",
      "execution_count": null,
      "metadata": {
        "id": "yVHPytch0PFS"
      },
      "outputs": [],
      "source": [
        "path_to_file = tf.keras.utils.get_file('shakespeare.txt', 'https://storage.googleapis.com/download.tensorflow.org/data/shakespeare.txt')"
      ]
    },
    {
      "cell_type": "markdown",
      "metadata": {
        "id": "Ig3O78Hp0PFe"
      },
      "source": [
        "### Load Data"
      ]
    },
    {
      "cell_type": "code",
      "execution_count": null,
      "metadata": {
        "id": "GtfngDmq0PFe",
        "outputId": "4932faa7-b6b2-47f6-dc84-ac11e8bd0aa1"
      },
      "outputs": [
        {
          "name": "stdout",
          "output_type": "stream",
          "text": [
            "Length of text: 1115394 characters\n"
          ]
        }
      ],
      "source": [
        "# Read, then decode for py2 compat.\n",
        "text = open(path_to_file, 'rb').read().decode(encoding='utf-8')\n",
        "# length of text is the number of characters in it\n",
        "print(f'Length of text: {len(text)} characters')"
      ]
    },
    {
      "cell_type": "code",
      "execution_count": null,
      "metadata": {
        "id": "9TKwiZjH0PFe",
        "outputId": "b01f08b8-f2bc-4dc3-a2f2-1bc182a2a449"
      },
      "outputs": [
        {
          "name": "stdout",
          "output_type": "stream",
          "text": [
            "First Citizen:\n",
            "Before we proceed any further, hear me speak.\n",
            "\n",
            "All:\n",
            "Speak, speak.\n",
            "\n",
            "First Citizen:\n",
            "You are all resolved rather to die than to famish?\n",
            "\n",
            "All:\n",
            "Resolved. resolved.\n",
            "\n",
            "First Citizen:\n",
            "First, you know Caius Marcius is chief enemy to the people.\n",
            "\n"
          ]
        }
      ],
      "source": [
        "# Take a look at the first 250 characters in text\n",
        "print(text[:250])"
      ]
    },
    {
      "cell_type": "code",
      "execution_count": null,
      "metadata": {
        "id": "JlSB8wk20PFe",
        "outputId": "2673582a-7a63-4c5a-f07b-42fbdacac3e7"
      },
      "outputs": [
        {
          "name": "stdout",
          "output_type": "stream",
          "text": [
            "65 unique characters\n"
          ]
        }
      ],
      "source": [
        "# The unique characters in the file\n",
        "vocab = sorted(set(text))\n",
        "print(f'{len(vocab)} unique characters')"
      ]
    },
    {
      "cell_type": "markdown",
      "metadata": {
        "id": "6bBRGzBX0PFf"
      },
      "source": [
        "## Olah Teks"
      ]
    },
    {
      "cell_type": "markdown",
      "metadata": {
        "id": "k7aMLtGv0PFf"
      },
      "source": [
        "### Vektorize Teks"
      ]
    },
    {
      "cell_type": "code",
      "execution_count": null,
      "metadata": {
        "id": "cK1g8WOA0PFf",
        "outputId": "073d7a8d-0a19-40dc-9fa3-f878c24b434e"
      },
      "outputs": [
        {
          "data": {
            "text/plain": [
              "<tf.RaggedTensor [[b'a', b'b', b'c', b'd', b'e', b'f', b'g'], [b'x', b'y', b'z']]>"
            ]
          },
          "execution_count": 83,
          "metadata": {},
          "output_type": "execute_result"
        }
      ],
      "source": [
        "example_texts = ['abcdefg','xyz']\n",
        "chars = tf.strings.unicode_split(example_texts, input_encoding='UTF-8')\n",
        "chars"
      ]
    },
    {
      "cell_type": "code",
      "execution_count": null,
      "metadata": {
        "id": "8esAl7hA0PFf"
      },
      "outputs": [],
      "source": [
        "ids_from_chars = tf.keras.layers.StringLookup(\n",
        "        vocabulary=list(vocab), mask_token=None)"
      ]
    },
    {
      "cell_type": "code",
      "execution_count": null,
      "metadata": {
        "id": "P1-_nDWt0PFf",
        "outputId": "24eb4efe-d071-4f68-da57-d0d0c6d658c1"
      },
      "outputs": [
        {
          "data": {
            "text/plain": [
              "<tf.RaggedTensor [[40, 41, 42, 43, 44, 45, 46], [63, 64, 65]]>"
            ]
          },
          "execution_count": 85,
          "metadata": {},
          "output_type": "execute_result"
        }
      ],
      "source": [
        "ids = ids_from_chars(chars)\n",
        "ids"
      ]
    },
    {
      "cell_type": "code",
      "execution_count": null,
      "metadata": {
        "id": "Rdmhq8sX0PFg"
      },
      "outputs": [],
      "source": [
        "chars_from_ids = tf.keras.layers.StringLookup(\n",
        "    vocabulary = ids_from_chars.get_vocabulary(), invert=True, mask_token=None)"
      ]
    },
    {
      "cell_type": "code",
      "execution_count": null,
      "metadata": {
        "id": "C3BZQbVs0PFg",
        "outputId": "49b8f561-31bc-4a74-9159-61a6652e4a1d"
      },
      "outputs": [
        {
          "data": {
            "text/plain": [
              "<tf.RaggedTensor [[b'a', b'b', b'c', b'd', b'e', b'f', b'g'], [b'x', b'y', b'z']]>"
            ]
          },
          "execution_count": 87,
          "metadata": {},
          "output_type": "execute_result"
        }
      ],
      "source": [
        "chars = chars_from_ids(ids)\n",
        "chars"
      ]
    },
    {
      "cell_type": "code",
      "execution_count": null,
      "metadata": {
        "id": "oImiExtJ0PFg",
        "outputId": "b6ff3e18-9ecc-4966-961f-537d80b64a99"
      },
      "outputs": [
        {
          "data": {
            "text/plain": [
              "array([b'abcdefg', b'xyz'], dtype=object)"
            ]
          },
          "execution_count": 88,
          "metadata": {},
          "output_type": "execute_result"
        }
      ],
      "source": [
        "tf.strings.reduce_join(chars, axis=-1).numpy()"
      ]
    },
    {
      "cell_type": "code",
      "execution_count": null,
      "metadata": {
        "id": "FsGtS1WT0PFg"
      },
      "outputs": [],
      "source": [
        "def text_from_ids(ids):\n",
        "        return tf.strings.reduce_join(chars_from_ids(ids), axis=-1)"
      ]
    },
    {
      "cell_type": "markdown",
      "metadata": {
        "id": "fYsQrblH0PFh"
      },
      "source": [
        "### Pediksi"
      ]
    },
    {
      "cell_type": "markdown",
      "metadata": {
        "id": "FwQYIpfr0PFh"
      },
      "source": [
        "#### Membuat Training Set dan Target"
      ]
    },
    {
      "cell_type": "code",
      "execution_count": null,
      "metadata": {
        "id": "Nayy5Z0E0PFh",
        "outputId": "1801316c-d366-47fe-fbac-ea2a8ae2f3b8"
      },
      "outputs": [
        {
          "data": {
            "text/plain": [
              "<tf.Tensor: shape=(1115394,), dtype=int64, numpy=array([19, 48, 57, ..., 46,  9,  1])>"
            ]
          },
          "execution_count": 90,
          "metadata": {},
          "output_type": "execute_result"
        }
      ],
      "source": [
        "all_ids = ids_from_chars(tf.strings.unicode_split(text, 'UTF-8'))\n",
        "all_ids"
      ]
    },
    {
      "cell_type": "code",
      "execution_count": null,
      "metadata": {
        "id": "8PncHO5s0PFh"
      },
      "outputs": [],
      "source": [
        "ids_dataset = tf.data.Dataset.from_tensor_slices(all_ids)"
      ]
    },
    {
      "cell_type": "code",
      "execution_count": null,
      "metadata": {
        "id": "4W0sIhXm0PFh",
        "outputId": "33f0cd4b-a29f-474c-e74e-32b3d60b8e4d"
      },
      "outputs": [
        {
          "name": "stdout",
          "output_type": "stream",
          "text": [
            "F\n",
            "i\n",
            "r\n",
            "s\n",
            "t\n",
            " \n",
            "C\n",
            "i\n",
            "t\n",
            "i\n"
          ]
        }
      ],
      "source": [
        "for ids in ids_dataset.take(10):\n",
        "    print(chars_from_ids(ids).numpy().decode('utf-8'))"
      ]
    },
    {
      "cell_type": "code",
      "execution_count": null,
      "metadata": {
        "id": "CQnMMeUU0PFi"
      },
      "outputs": [],
      "source": [
        "seq_length = 100"
      ]
    },
    {
      "cell_type": "code",
      "execution_count": null,
      "metadata": {
        "id": "43pC41M30PFi",
        "outputId": "b370187d-bdb8-478c-d63f-3cc07f55217c"
      },
      "outputs": [
        {
          "name": "stdout",
          "output_type": "stream",
          "text": [
            "tf.Tensor(\n",
            "[b'F' b'i' b'r' b's' b't' b' ' b'C' b'i' b't' b'i' b'z' b'e' b'n' b':'\n",
            " b'\\n' b'B' b'e' b'f' b'o' b'r' b'e' b' ' b'w' b'e' b' ' b'p' b'r' b'o'\n",
            " b'c' b'e' b'e' b'd' b' ' b'a' b'n' b'y' b' ' b'f' b'u' b'r' b't' b'h'\n",
            " b'e' b'r' b',' b' ' b'h' b'e' b'a' b'r' b' ' b'm' b'e' b' ' b's' b'p'\n",
            " b'e' b'a' b'k' b'.' b'\\n' b'\\n' b'A' b'l' b'l' b':' b'\\n' b'S' b'p' b'e'\n",
            " b'a' b'k' b',' b' ' b's' b'p' b'e' b'a' b'k' b'.' b'\\n' b'\\n' b'F' b'i'\n",
            " b'r' b's' b't' b' ' b'C' b'i' b't' b'i' b'z' b'e' b'n' b':' b'\\n' b'Y'\n",
            " b'o' b'u' b' '], shape=(101,), dtype=string)\n"
          ]
        }
      ],
      "source": [
        "sequences = ids_dataset.batch(seq_length+1, drop_remainder=True)\n",
        "\n",
        "for seq in sequences.take(1):\n",
        "  print(chars_from_ids(seq))"
      ]
    },
    {
      "cell_type": "code",
      "execution_count": null,
      "metadata": {
        "id": "VDgZULi10PFi",
        "outputId": "2c632787-260e-4da2-9a35-a97dc56ac461"
      },
      "outputs": [
        {
          "name": "stdout",
          "output_type": "stream",
          "text": [
            "b'First Citizen:\\nBefore we proceed any further, hear me speak.\\n\\nAll:\\nSpeak, speak.\\n\\nFirst Citizen:\\nYou '\n",
            "b'are all resolved rather to die than to famish?\\n\\nAll:\\nResolved. resolved.\\n\\nFirst Citizen:\\nFirst, you k'\n",
            "b\"now Caius Marcius is chief enemy to the people.\\n\\nAll:\\nWe know't, we know't.\\n\\nFirst Citizen:\\nLet us ki\"\n",
            "b\"ll him, and we'll have corn at our own price.\\nIs't a verdict?\\n\\nAll:\\nNo more talking on't; let it be d\"\n",
            "b'one: away, away!\\n\\nSecond Citizen:\\nOne word, good citizens.\\n\\nFirst Citizen:\\nWe are accounted poor citi'\n"
          ]
        }
      ],
      "source": [
        "for seq in sequences.take(5):\n",
        "    print(text_from_ids(seq).numpy())"
      ]
    },
    {
      "cell_type": "code",
      "execution_count": null,
      "metadata": {
        "id": "deUG82-r0PFi"
      },
      "outputs": [],
      "source": [
        "def split_input_target(sequence):\n",
        "        input_text = sequence[:-1]\n",
        "        target_text = sequence[1:]\n",
        "        return input_text, target_text"
      ]
    },
    {
      "cell_type": "code",
      "execution_count": null,
      "metadata": {
        "id": "0sLzVZ6o0PFj",
        "outputId": "c4db0179-9f19-43e8-81ca-65bbeb96a43c"
      },
      "outputs": [
        {
          "data": {
            "text/plain": [
              "(['T', 'e', 'n', 's', 'o', 'r', 'f', 'l', 'o'],\n",
              " ['e', 'n', 's', 'o', 'r', 'f', 'l', 'o', 'w'])"
            ]
          },
          "execution_count": 97,
          "metadata": {},
          "output_type": "execute_result"
        }
      ],
      "source": [
        "split_input_target(list(\"Tensorflow\"))"
      ]
    },
    {
      "cell_type": "code",
      "execution_count": null,
      "metadata": {
        "id": "L9F9s5XM0PFj"
      },
      "outputs": [],
      "source": [
        "dataset = sequences.map(split_input_target)"
      ]
    },
    {
      "cell_type": "code",
      "execution_count": null,
      "metadata": {
        "id": "utX8UK1o0PFj",
        "outputId": "0b960061-0c9c-4c11-e3cf-9077f480663e"
      },
      "outputs": [
        {
          "name": "stdout",
          "output_type": "stream",
          "text": [
            "Input : b'First Citizen:\\nBefore we proceed any further, hear me speak.\\n\\nAll:\\nSpeak, speak.\\n\\nFirst Citizen:\\nYou'\n",
            "Target: b'irst Citizen:\\nBefore we proceed any further, hear me speak.\\n\\nAll:\\nSpeak, speak.\\n\\nFirst Citizen:\\nYou '\n"
          ]
        }
      ],
      "source": [
        "for input_example, target_example in dataset.take(1):\n",
        "        print(\"Input :\", text_from_ids(input_example).numpy())\n",
        "        print(\"Target:\", text_from_ids(target_example).numpy())"
      ]
    },
    {
      "cell_type": "markdown",
      "metadata": {
        "id": "OOlkedA10PFj"
      },
      "source": [
        "#### Membuat Batch Training"
      ]
    },
    {
      "cell_type": "code",
      "execution_count": null,
      "metadata": {
        "id": "AfHV9WDG0PFk",
        "outputId": "6eb17d42-4510-4a47-f92d-1317d42a45bd"
      },
      "outputs": [
        {
          "data": {
            "text/plain": [
              "<_PrefetchDataset element_spec=(TensorSpec(shape=(64, 100), dtype=tf.int64, name=None), TensorSpec(shape=(64, 100), dtype=tf.int64, name=None))>"
            ]
          },
          "execution_count": 100,
          "metadata": {},
          "output_type": "execute_result"
        }
      ],
      "source": [
        "# Batch size\n",
        "BATCH_SIZE = 64\n",
        "\n",
        "# Buffer size to shuffle the dataset\n",
        "# (TF data is designed to work with possibly infinite sequences,\n",
        "# so it doesn't attempt to shuffle the entire sequence in memory. Instead,\n",
        "# it maintains a buffer in which it shuffles elements).\n",
        "BUFFER_SIZE = 10000\n",
        "\n",
        "dataset = (\n",
        "    dataset\n",
        "    .shuffle(BUFFER_SIZE)\n",
        "    .batch(BATCH_SIZE, drop_remainder=True)\n",
        "    .prefetch(tf.data.experimental.AUTOTUNE))\n",
        "\n",
        "dataset"
      ]
    },
    {
      "cell_type": "markdown",
      "metadata": {
        "id": "BteEoz730PFk"
      },
      "source": [
        "### Buat Model"
      ]
    },
    {
      "cell_type": "code",
      "execution_count": null,
      "metadata": {
        "id": "cBHp64zq0PFk"
      },
      "outputs": [],
      "source": [
        "# Length of the vocabulary in StringLookup Layer\n",
        "vocab_size = len(ids_from_chars.get_vocabulary())\n",
        "\n",
        "# The embedding dimension\n",
        "embedding_dim = 256\n",
        "\n",
        "# Number of RNN units\n",
        "rnn_units = 1024"
      ]
    },
    {
      "cell_type": "code",
      "execution_count": null,
      "metadata": {
        "id": "XrouhWW30PFm"
      },
      "outputs": [],
      "source": [
        "class MyModel(tf.keras.Model):\n",
        "  def __init__(self, vocab_size, embedding_dim, rnn_units):\n",
        "    super().__init__(self)\n",
        "    self.embedding = tf.keras.layers.Embedding(vocab_size, embedding_dim)\n",
        "    self.gru = tf.keras.layers.GRU(rnn_units,\n",
        "                                   return_sequences=True,\n",
        "                                   return_state=True)\n",
        "    self.dense = tf.keras.layers.Dense(vocab_size)\n",
        "\n",
        "  def call(self, inputs, states=None, return_state=False, training=False):\n",
        "    x = inputs\n",
        "    x = self.embedding(x, training=training)\n",
        "    if states is None:\n",
        "      states = self.gru.get_initial_state(x)\n",
        "    x, states = self.gru(x, initial_state=states, training=training)\n",
        "    x = self.dense(x, training=training)\n",
        "\n",
        "    if return_state:\n",
        "      return x, states\n",
        "    else:\n",
        "      return x"
      ]
    },
    {
      "cell_type": "code",
      "execution_count": null,
      "metadata": {
        "id": "Fr2yznZq0PFm"
      },
      "outputs": [],
      "source": [
        "model = MyModel(\n",
        "    vocab_size = vocab_size,\n",
        "    embedding_dim = embedding_dim,\n",
        "    rnn_units = rnn_units)"
      ]
    },
    {
      "cell_type": "markdown",
      "metadata": {
        "id": "A22jIOQW0PFn"
      },
      "source": [
        "### Uji Model"
      ]
    },
    {
      "cell_type": "code",
      "execution_count": null,
      "metadata": {
        "id": "SJKhBqNg0PFn",
        "outputId": "c8215beb-6bf2-44f4-e165-427e31aa04b0"
      },
      "outputs": [
        {
          "name": "stdout",
          "output_type": "stream",
          "text": [
            "(64, 100, 66) # (batch_size, sequence_length, vocab_size)\n"
          ]
        }
      ],
      "source": [
        "for input_example_batch, target_example_batch in dataset.take(1):\n",
        "        example_batch_predictions = model(input_example_batch)\n",
        "        print(example_batch_predictions.shape, \"# (batch_size, sequence_length, vocab_size)\")"
      ]
    },
    {
      "cell_type": "code",
      "execution_count": null,
      "metadata": {
        "id": "sUOxPIeG0PFn",
        "outputId": "560730a6-72ff-4de3-8f17-1c8da2c2c5d9"
      },
      "outputs": [
        {
          "name": "stdout",
          "output_type": "stream",
          "text": [
            "Model: \"my_model_1\"\n",
            "_________________________________________________________________\n",
            " Layer (type)                Output Shape              Param #   \n",
            "=================================================================\n",
            " embedding_4 (Embedding)     multiple                  16896     \n",
            "                                                                 \n",
            " gru_2 (GRU)                 multiple                  3938304   \n",
            "                                                                 \n",
            " dense_6 (Dense)             multiple                  67650     \n",
            "                                                                 \n",
            "=================================================================\n",
            "Total params: 4022850 (15.35 MB)\n",
            "Trainable params: 4022850 (15.35 MB)\n",
            "Non-trainable params: 0 (0.00 Byte)\n",
            "_________________________________________________________________\n"
          ]
        }
      ],
      "source": [
        "model.summary()"
      ]
    },
    {
      "cell_type": "code",
      "execution_count": null,
      "metadata": {
        "id": "QdbHf_Zy0PFn"
      },
      "outputs": [],
      "source": [
        "sampled_indices = tf.random.categorical(example_batch_predictions[0], num_samples=1)\n",
        "sampled_indices = tf.squeeze(sampled_indices, axis=-1).numpy()"
      ]
    },
    {
      "cell_type": "code",
      "execution_count": null,
      "metadata": {
        "id": "LdosC5GZ0PFo",
        "outputId": "9d9856f2-f497-49d1-f49c-d7e824677600"
      },
      "outputs": [
        {
          "data": {
            "text/plain": [
              "array([ 8, 63, 12, 42, 63, 17, 47, 11, 37, 63,  6, 35, 23, 19, 53,  5,  4,\n",
              "       54, 28,  9, 52,  8, 54, 32, 21, 16, 31, 44, 17, 61,  7,  1, 29, 47,\n",
              "       39, 40, 63,  2, 11,  9, 33, 63, 27, 40, 15, 48, 58, 28, 34, 48,  9,\n",
              "       55, 47,  6, 63, 10,  5,  7, 48, 46, 42, 45, 24, 19, 46, 33, 38, 61,\n",
              "       48, 58, 62, 23,  5, 46, 62, 64, 48, 54, 15,  9, 37, 24, 61, 15, 62,\n",
              "       54,  2, 55, 63, 10, 45, 20, 40, 62, 20, 31, 39, 16,  7, 14])"
            ]
          },
          "execution_count": 107,
          "metadata": {},
          "output_type": "execute_result"
        }
      ],
      "source": [
        "sampled_indices"
      ]
    },
    {
      "cell_type": "code",
      "execution_count": null,
      "metadata": {
        "id": "z7W9RNfZ0PFo",
        "outputId": "f9f7e18f-6aa3-4232-ad63-c32d97cf21e8"
      },
      "outputs": [
        {
          "name": "stdout",
          "output_type": "stream",
          "text": [
            "Input:\n",
            " b'iction has a taste as sweet\\nAs any cordial comfort. Still, methinks,\\nThere is an air comes from her:'\n",
            "\n",
            "Next Char Predictions:\n",
            " b\"-x;cxDh:Xx'VJFn&$oO.m-oSHCReDv,\\nPhZax :.TxNaBisOUi.ph'x3&,igcfKFgTYviswJ&gwyioB.XKvBwo px3fGawGRZC,A\"\n"
          ]
        }
      ],
      "source": [
        "print(\"Input:\\n\", text_from_ids(input_example_batch[0]).numpy())\n",
        "print()\n",
        "print(\"Next Char Predictions:\\n\", text_from_ids(sampled_indices).numpy())"
      ]
    },
    {
      "cell_type": "markdown",
      "metadata": {
        "id": "OTTEBP6W0PFo"
      },
      "source": [
        "### Train Model"
      ]
    },
    {
      "cell_type": "markdown",
      "metadata": {
        "id": "MpHonQ5N0PFp"
      },
      "source": [
        "Tambahkan optimizer dan fungsi loss"
      ]
    },
    {
      "cell_type": "code",
      "execution_count": null,
      "metadata": {
        "id": "3rOEb3HA0PFp"
      },
      "outputs": [],
      "source": [
        "loss = tf.losses.SparseCategoricalCrossentropy(from_logits=True)"
      ]
    },
    {
      "cell_type": "code",
      "execution_count": null,
      "metadata": {
        "id": "HXJ6AcY10PFp",
        "outputId": "9122bbed-d1e9-4a44-df29-7e31ab2a9ebb"
      },
      "outputs": [
        {
          "name": "stdout",
          "output_type": "stream",
          "text": [
            "Prediction shape:  (64, 100, 66)  # (batch_size, sequence_length, vocab_size)\n",
            "Mean loss:         tf.Tensor(4.1917105, shape=(), dtype=float32)\n"
          ]
        }
      ],
      "source": [
        "example_batch_mean_loss = loss(target_example_batch, example_batch_predictions)\n",
        "print(\"Prediction shape: \", example_batch_predictions.shape, \" # (batch_size, sequence_length, vocab_size)\")\n",
        "print(\"Mean loss:        \", example_batch_mean_loss)"
      ]
    },
    {
      "cell_type": "code",
      "execution_count": null,
      "metadata": {
        "id": "_qbt0DUz0PFp",
        "outputId": "93b70690-0e77-4cc4-fe79-78ad5291e9ef"
      },
      "outputs": [
        {
          "data": {
            "text/plain": [
              "66.13581"
            ]
          },
          "execution_count": 111,
          "metadata": {},
          "output_type": "execute_result"
        }
      ],
      "source": [
        "tf.exp(example_batch_mean_loss).numpy()"
      ]
    },
    {
      "cell_type": "code",
      "execution_count": null,
      "metadata": {
        "id": "exuGo1t00PFq"
      },
      "outputs": [],
      "source": [
        "model.compile(optimizer='adam', loss=loss)"
      ]
    },
    {
      "cell_type": "markdown",
      "metadata": {
        "id": "Mr75_G110PFq"
      },
      "source": [
        "#### Konfigurasi Checkpoints"
      ]
    },
    {
      "cell_type": "code",
      "execution_count": null,
      "metadata": {
        "id": "vsrc0P6t0PFq"
      },
      "outputs": [],
      "source": [
        "# Directory where the checkpoints will be saved\n",
        "checkpoint_dir = './training_checkpoints'\n",
        "# Name of the checkpoint files\n",
        "checkpoint_prefix = os.path.join(checkpoint_dir, \"ckpt_{epoch}\")\n",
        "\n",
        "checkpoint_callback = tf.keras.callbacks.ModelCheckpoint(\n",
        "    filepath=checkpoint_prefix,\n",
        "    save_weights_only=True)"
      ]
    },
    {
      "cell_type": "markdown",
      "metadata": {
        "id": "PBU6kBwK0PFq"
      },
      "source": [
        "#### Lakukan Proses Training"
      ]
    },
    {
      "cell_type": "code",
      "execution_count": null,
      "metadata": {
        "id": "p5SHyDOT0PFr"
      },
      "outputs": [],
      "source": [
        "EPOCHS = 20"
      ]
    },
    {
      "cell_type": "code",
      "execution_count": null,
      "metadata": {
        "id": "vGcpEcxA0PFr",
        "outputId": "67631074-82b5-4aa2-8fe8-f07a43388393"
      },
      "outputs": [
        {
          "name": "stdout",
          "output_type": "stream",
          "text": [
            "Epoch 1/20\n"
          ]
        },
        {
          "name": "stdout",
          "output_type": "stream",
          "text": [
            "172/172 [==============================] - 248s 1s/step - loss: 2.7360\n",
            "Epoch 2/20\n",
            "172/172 [==============================] - 249s 1s/step - loss: 1.9969\n",
            "Epoch 3/20\n",
            "172/172 [==============================] - 248s 1s/step - loss: 1.7219\n",
            "Epoch 4/20\n",
            "172/172 [==============================] - 248s 1s/step - loss: 1.5614\n",
            "Epoch 5/20\n",
            "172/172 [==============================] - 248s 1s/step - loss: 1.4606\n",
            "Epoch 6/20\n",
            "172/172 [==============================] - 248s 1s/step - loss: 1.3922\n",
            "Epoch 7/20\n",
            "172/172 [==============================] - 247s 1s/step - loss: 1.3388\n",
            "Epoch 8/20\n",
            "172/172 [==============================] - 248s 1s/step - loss: 1.2958\n",
            "Epoch 9/20\n",
            "172/172 [==============================] - 248s 1s/step - loss: 1.2550\n",
            "Epoch 10/20\n",
            "172/172 [==============================] - 270s 2s/step - loss: 1.2157\n",
            "Epoch 11/20\n",
            "172/172 [==============================] - 277s 2s/step - loss: 1.1763\n",
            "Epoch 12/20\n",
            "172/172 [==============================] - 268s 2s/step - loss: 1.1376\n",
            "Epoch 13/20\n",
            "172/172 [==============================] - 279s 2s/step - loss: 1.0960\n",
            "Epoch 14/20\n",
            "172/172 [==============================] - 291s 2s/step - loss: 1.0507\n",
            "Epoch 15/20\n",
            "172/172 [==============================] - 267s 2s/step - loss: 1.0048\n",
            "Epoch 16/20\n",
            "172/172 [==============================] - 267s 2s/step - loss: 0.9547\n",
            "Epoch 17/20\n",
            "172/172 [==============================] - 284s 2s/step - loss: 0.9027\n",
            "Epoch 18/20\n",
            "172/172 [==============================] - 267s 2s/step - loss: 0.8497\n",
            "Epoch 19/20\n",
            "172/172 [==============================] - 268s 2s/step - loss: 0.7989\n",
            "Epoch 20/20\n",
            "172/172 [==============================] - 272s 2s/step - loss: 0.7478\n"
          ]
        }
      ],
      "source": [
        "history = model.fit(dataset, epochs=EPOCHS, callbacks=[checkpoint_callback])"
      ]
    },
    {
      "cell_type": "markdown",
      "metadata": {
        "id": "TNgYAig10PFr"
      },
      "source": [
        "### Generate Text"
      ]
    },
    {
      "cell_type": "code",
      "execution_count": null,
      "metadata": {
        "id": "zrVbjYoX0PFr"
      },
      "outputs": [],
      "source": [
        "class OneStep(tf.keras.Model):\n",
        "  def __init__(self, model, chars_from_ids, ids_from_chars, temperature=1.0):\n",
        "    super().__init__()\n",
        "    self.temperature = temperature\n",
        "    self.model = model\n",
        "    self.chars_from_ids = chars_from_ids\n",
        "    self.ids_from_chars = ids_from_chars\n",
        "\n",
        "    # Create a mask to prevent \"[UNK]\" from being generated.\n",
        "    skip_ids = self.ids_from_chars(['[UNK]'])[:, None]\n",
        "    sparse_mask = tf.SparseTensor(\n",
        "        # Put a -inf at each bad index.\n",
        "        values=[-float('inf')]*len(skip_ids),\n",
        "        indices=skip_ids,\n",
        "        # Match the shape to the vocabulary\n",
        "        dense_shape=[len(ids_from_chars.get_vocabulary())])\n",
        "    self.prediction_mask = tf.sparse.to_dense(sparse_mask)\n",
        "\n",
        "  @tf.function\n",
        "  def generate_one_step(self, inputs, states=None):\n",
        "    # Convert strings to token IDs.\n",
        "    input_chars = tf.strings.unicode_split(inputs, 'UTF-8')\n",
        "    input_ids = self.ids_from_chars(input_chars).to_tensor()\n",
        "\n",
        "    # Run the model.\n",
        "    # predicted_logits.shape is [batch, char, next_char_logits]\n",
        "    predicted_logits, states = self.model(inputs=input_ids, states=states,\n",
        "                                          return_state=True)\n",
        "    # Only use the last prediction.\n",
        "    predicted_logits = predicted_logits[:, -1, :]\n",
        "    predicted_logits = predicted_logits/self.temperature\n",
        "    # Apply the prediction mask: prevent \"[UNK]\" from being generated.\n",
        "    predicted_logits = predicted_logits + self.prediction_mask\n",
        "\n",
        "    # Sample the output logits to generate token IDs.\n",
        "    predicted_ids = tf.random.categorical(predicted_logits, num_samples=1)\n",
        "    predicted_ids = tf.squeeze(predicted_ids, axis=-1)\n",
        "\n",
        "    # Convert from token ids to characters\n",
        "    predicted_chars = self.chars_from_ids(predicted_ids)\n",
        "\n",
        "    # Return the characters and model state.\n",
        "    return predicted_chars, states"
      ]
    },
    {
      "cell_type": "code",
      "execution_count": null,
      "metadata": {
        "id": "q3r81CUN0PFr"
      },
      "outputs": [],
      "source": [
        "one_step_model = OneStep(model, chars_from_ids, ids_from_chars)"
      ]
    },
    {
      "cell_type": "code",
      "execution_count": null,
      "metadata": {
        "id": "nyMesfCv0PFr",
        "outputId": "9bd924ff-be8b-406a-8f36-e202fba6e467"
      },
      "outputs": [
        {
          "name": "stdout",
          "output_type": "stream",
          "text": [
            "ROMEO:\n",
            "Yet for this news, the heaveness burn and lands and grace.\n",
            "But love thee speak fair-roal to the truth;\n",
            "And here I ripening further,\n",
            "Till how I do throw down not only face?\n",
            "Supper-a-soul and desortue of your good\n",
            "worst in beauty, and been ballad.\n",
            "\n",
            "POLIXENES:\n",
            "Veruly, I beseech you, ladies. All this night's cartain,\n",
            "Yet hath no that hath brought his sword, and may not bring\n",
            "him adonery; yet, to pluck from thee, three?\n",
            "\n",
            "SEBASTIAN:\n",
            "'Twas he express my horses, and about my commonable.\n",
            "\n",
            "KING EDWARD IV:\n",
            "Glab some unboan's life seen, towards killent Kate,\n",
            "To better other, as I said it.\n",
            "\n",
            "First Citizen:\n",
            "Say you to't?\n",
            "\n",
            "PORIXE:\n",
            "I would I take thy lowel school.\n",
            "\n",
            "PERDITA:\n",
            "Sir, that I stood to thy hast sees in this\n",
            "favourity,\n",
            "Which for robbers unstubstanty of no reys forsworn;\n",
            "For whose sudard bare and age to our night,\n",
            "But in the vessess 'scaped up with chin herself:\n",
            "Before the king yourself in perford.\n",
            "\n",
            "LUCENTIO:\n",
            "A little, heard-me not.\n",
            "What was your grace uphis?' keep your grace!\n",
            "\n",
            "DUKE VINCENTIO:\n",
            " \n",
            "\n",
            "________________________________________________________________________________\n",
            "\n",
            "Run time: 44.25601673126221\n"
          ]
        }
      ],
      "source": [
        "start = time.time()\n",
        "states = None\n",
        "next_char = tf.constant(['ROMEO:'])\n",
        "result = [next_char]\n",
        "\n",
        "for n in range(1000):\n",
        "  next_char, states = one_step_model.generate_one_step(next_char, states=states)\n",
        "  result.append(next_char)\n",
        "\n",
        "result = tf.strings.join(result)\n",
        "end = time.time()\n",
        "print(result[0].numpy().decode('utf-8'), '\\n\\n' + '_'*80)\n",
        "print('\\nRun time:', end - start)"
      ]
    },
    {
      "cell_type": "code",
      "execution_count": null,
      "metadata": {
        "id": "eFI2qlU20PFr",
        "outputId": "a995df28-5890-4ee6-d1cc-442f423ed6aa"
      },
      "outputs": [
        {
          "name": "stdout",
          "output_type": "stream",
          "text": [
            "tf.Tensor(\n",
            "[b\"ROMEO:\\nGood morrow, noble lord; and he that has her ignorant could sheep\\nTill I losg and be his fignithen now.\\n\\nFirst Murderer:\\nO God's name, sweet Kate!\\n\\nANGELO:\\nHe's a little while. Lamber!\\nI will to Rome, cubble things,\\nLike an applext of the bowels\\nAnd give with usurping vasitions young\\nMistress new your visage instantly.\\n\\nLord Mayor:\\n'Tis bushing her: there is not danger.\\n\\nKING HENRY VI:\\nMadam, have some hours he entreat you.\\n\\nVINCENTIO:\\nSay that the court-hold Richard hath a thirt\\nYour divine hope she should show my husband.\\n\\nBAPTISTA:\\nSaw, I am sorry that the postern of my poor Mark'd\\nBy holy word, with this deceive them of your honour,\\nAnd leave thy death; evercy word this peace!\\nAh, Jeaul! chance me to the bree-heaven's blood,\\nHer fatherly committed hastens.\\n\\nVOLUMNIA:\\nAs an one sire, I'll go this home.\\n\\nFirst Murderer:\\nTake the service. Come, I'll be new-get in my mouth.\\n\\nROMEO:\\nNailord's lord?\\nI came to ten your royal ground.\\n\\nDUKE OF YORK:\\nThe time that makes thee affected to you\"\n",
            " b\"ROMEO:\\nTo change and spring to fright them;\\nBut here in these sadvented, yet all one another\\nAnd, to whose dear hand, by this conditious in\\nhis instrument, nor necessares here\\nWe meet again. Let him sir; answer him,\\nAnd cluppery dumply thereof came away:\\nThere is none could never next me heard\\nTo know his house. I'll to my company,\\nOne devilish silences-from her very house:\\nThen durst me for a while harry just and obler shrift.\\n\\nYORK:\\nAh, word to Elfor, as I believe no history.\\n\\nKING RICHARD III:\\nI have betted thee my friends was wont.\\nI was brought you to thy land together:\\nNothing but a prophet into that it:\\nHe shook her nobly of yourselves.\\nYour father hath a cause to comfort him,\\nFor it hath held in pasting on their fury:\\nAnd he that thou common actor lizes on,\\nGive him bushy on my thorsabut banished\\nThe hearts at every stury; so quicken'd his\\nAre one and what success I thank you,\\nAs if I had and so far off or hand herself\\nWith thieves-'gn of slanders for that word.\\n\\nQUEEN MARGARET:\\nAn i\"\n",
            " b\"ROMEO:\\nTwill breathe a grant, grant thousand, no just upon,\\nThe evil that sundusts in his hate; thereon\\n'Tis come all hope is vain. And I am sure\\nSo I to dost thou, ano could speak?\\nHe's not reasons; then by my life\\nLines and hard-hand darths, which should equally her,\\nA mother and to live, and learn to knock me\\nSon, my life, I'ld by rewires and tribute\\nEnviring vows, and rather had thy heart.\\nThy reason was pale; for now the heart to fear.\\n\\nDORSET:\\nI' faith, I'ld risolition, ladies.\\n\\nBoatswain:\\nNow-morrow not then.\\n\\nPOMPEY:\\nI never do hard hirdopp'd,\\nWho bid him slain in vain, nor no such house\\nTo mend ye good a brace; or I think thou lack spring.\\n\\nRICHARD:\\nI, to the drunkard wholesomes, which has been\\nseated, her brothers blunt their wills betwixt us\\nOur officers are rock, but let her be creata,\\nSome tork or foe thy brother's blood, behind I\\nWhat then I see that valiant Clifford told me,\\nThat was his lady and infrinish.\\n\\nBENVOLIO:\\nBut that your heart is spotless, we did\\nbear, this in the t\"\n",
            " b\"ROMEO:\\nHow well I woner i' that sweet your honour!\\nA gracious virtuous North, made; go hear no helm.\\n\\nHASTINGS:\\nI knee, in comfort: for a husband home alone.\\n\\nDUCHESS OF YORK:\\nI thank you, good Kate; I will to my Coriolanus\\nHave you not seen that Angelo; I have given thee than the land.\\nOr in the bastardying son days that deliver his\\nmatter for a moice, but at his need's words\\nThat thou hrow'st thy conquest ages, each in the\\nduke and lighters and three-man--our seizes,\\nSuch people scarce then about it.\\n\\nLADY GREMIO:\\nWhy, how arg lang in't imagination;\\nFlowers, withdraw us; and withal,\\nWear this most night, 'tis such a cup of time:\\nhere does my ward and supper, William\\nStand forth your pilgrimage.\\n\\nFirst Gentleman:\\nAh, who is leading: ay, that's no church.\\n\\nPERDITA:\\nBear her a-house; new coward!\\nWhat oft his eyesight? and how these griefs of honourable\\nThan thou hast not hate to all. But, lords!\\nI mean, my lord, is yet her brothers.\\n\\nROMEO:\\nAnn if he did but his grave up ever?\\n\\nABRALAND:\\nI br\"\n",
            " b\"ROMEO:\\nO worthy perish! Lady, lord!\\nI say, I know, in heaven forth to rage:\\nFriend go to fight, and thou art always back.\\n\\nMERCUTIO:\\nThese news are first,\\nTell me the while! Why looks your grace may do march\\nUpon a bastardy of Edward's children,\\nWhose care is thisticular treem no good\\nhave pass'd the flatteries of which is entered that have the\\nbelied heart that come so strength to you?\\n\\nYour have been so?\\n\\nCOMINIUS:\\nGo in the midest liars.\\n\\nThird Servingman:\\nA silent hours suspess it.\\nBELY lady heavy has dishonour'd thin? were the\\nbound, it was the word of heart\\nThat any in his liberty might\\nbelieve, and many a cordup of cubberly, man,\\nWould not have burst unto a man.\\n\\nMERCUTIO:\\nFriar, where's it well. What's over-a woef of heart\\nGo 'tis to our human ancient relate\\nAnd quars with us, that we return again.\\n\\nPETRUCHIO:\\nKatharina must be yet.\\nO hope this last easign, and so our dine\\nAnd from your servant trust in thee.\\nI, that's when they all agonted by,\\nconsceeders will I did: a mystery; and \"], shape=(5,), dtype=string) \n",
            "\n",
            "________________________________________________________________________________\n",
            "\n",
            "Run time: 44.23491287231445\n"
          ]
        }
      ],
      "source": [
        "start = time.time()\n",
        "states = None\n",
        "next_char = tf.constant(['ROMEO:', 'ROMEO:', 'ROMEO:', 'ROMEO:', 'ROMEO:'])\n",
        "result = [next_char]\n",
        "\n",
        "for n in range(1000):\n",
        "  next_char, states = one_step_model.generate_one_step(next_char, states=states)\n",
        "  result.append(next_char)\n",
        "\n",
        "result = tf.strings.join(result)\n",
        "end = time.time()\n",
        "print(result, '\\n\\n' + '_'*80)\n",
        "print('\\nRun time:', end - start)"
      ]
    },
    {
      "cell_type": "markdown",
      "metadata": {
        "id": "KfopRFaC0PFs"
      },
      "source": [
        "### Ekspor Model Generator"
      ]
    },
    {
      "cell_type": "code",
      "execution_count": null,
      "metadata": {
        "id": "J_fks_5g0PFs",
        "outputId": "c415f92f-b28b-4669-8652-fbcf7a628412"
      },
      "outputs": [
        {
          "name": "stdout",
          "output_type": "stream",
          "text": [
            "WARNING:tensorflow:Skipping full serialization of Keras layer <__main__.OneStep object at 0x7f30879df430>, because it is not built.\n"
          ]
        },
        {
          "name": "stderr",
          "output_type": "stream",
          "text": [
            "WARNING:tensorflow:Skipping full serialization of Keras layer <__main__.OneStep object at 0x7f30879df430>, because it is not built.\n"
          ]
        },
        {
          "name": "stdout",
          "output_type": "stream",
          "text": [
            "WARNING:tensorflow:Model's `__init__()` arguments contain non-serializable objects. Please implement a `get_config()` method in the subclassed Model for proper saving and loading. Defaulting to empty config.\n"
          ]
        },
        {
          "name": "stderr",
          "output_type": "stream",
          "text": [
            "WARNING:tensorflow:Model's `__init__()` arguments contain non-serializable objects. Please implement a `get_config()` method in the subclassed Model for proper saving and loading. Defaulting to empty config.\n"
          ]
        },
        {
          "name": "stdout",
          "output_type": "stream",
          "text": [
            "WARNING:tensorflow:Model's `__init__()` arguments contain non-serializable objects. Please implement a `get_config()` method in the subclassed Model for proper saving and loading. Defaulting to empty config.\n"
          ]
        },
        {
          "name": "stderr",
          "output_type": "stream",
          "text": [
            "WARNING:tensorflow:Model's `__init__()` arguments contain non-serializable objects. Please implement a `get_config()` method in the subclassed Model for proper saving and loading. Defaulting to empty config.\n"
          ]
        },
        {
          "name": "stdout",
          "output_type": "stream",
          "text": [
            "INFO:tensorflow:Assets written to: one_step/assets\n"
          ]
        },
        {
          "name": "stderr",
          "output_type": "stream",
          "text": [
            "INFO:tensorflow:Assets written to: one_step/assets\n"
          ]
        }
      ],
      "source": [
        "tf.saved_model.save(one_step_model, 'one_step')\n",
        "one_step_reloaded = tf.saved_model.load('one_step')"
      ]
    },
    {
      "cell_type": "code",
      "execution_count": null,
      "metadata": {
        "id": "ijkTQKnY0PFs",
        "outputId": "358b01dc-1736-4be8-869f-38416010e432"
      },
      "outputs": [
        {
          "name": "stdout",
          "output_type": "stream",
          "text": [
            "ROMEO:\n",
            "A little hour his lips across chafes, and true.\n",
            "\n",
            "DORPES:\n",
            "Your pity is yours with his father's force\n"
          ]
        }
      ],
      "source": [
        "states = None\n",
        "next_char = tf.constant(['ROMEO:'])\n",
        "result = [next_char]\n",
        "\n",
        "for n in range(100):\n",
        "  next_char, states = one_step_reloaded.generate_one_step(next_char, states=states)\n",
        "  result.append(next_char)\n",
        "\n",
        "print(tf.strings.join(result)[0].numpy().decode(\"utf-8\"))"
      ]
    },
    {
      "cell_type": "markdown",
      "metadata": {
        "id": "gjA0SBUm0PFs"
      },
      "source": [
        "## Tugas Praktikum"
      ]
    },
    {
      "cell_type": "markdown",
      "source": [
        "Gunakan tf.GradientTape untuk men track nilai gradient. Anda dapat mempelajari lebih lanjut tentang pendekatan ini dengan membaca eager execution guide.\n",
        "Prosedurnya adalah :\n",
        "1. Jalankan Model dan hitung loss dengan tf.GradientTape.\n",
        "2. Hitung update dan terapkan pada model dengan optimizer"
      ],
      "metadata": {
        "id": "CMUd-YZO0-vd"
      }
    },
    {
      "cell_type": "code",
      "execution_count": null,
      "metadata": {
        "id": "AzG_8jPe0PFs"
      },
      "outputs": [],
      "source": [
        "class CustomTraining(MyModel):\n",
        "        @tf.function\n",
        "        def train_step(self, inputs):\n",
        "                inputs, labels = inputs\n",
        "                with tf.GradientTape() as tape:\n",
        "                        predictions = self(inputs, training=True)\n",
        "                        loss = self.loss(labels, predictions)\n",
        "                grads = tape.gradient(loss, model.trainable_variables)\n",
        "                self.optimizer.apply_gradients(zip(grads, model.trainable_variables))\n",
        "                return {'loss': loss}"
      ]
    },
    {
      "cell_type": "code",
      "execution_count": null,
      "metadata": {
        "id": "GzxAwj8i0PFs"
      },
      "outputs": [],
      "source": [
        "model = CustomTraining(\n",
        "        vocab_size=len(ids_from_chars.get_vocabulary()),\n",
        "        embedding_dim=embedding_dim,\n",
        "        rnn_units=rnn_units)"
      ]
    },
    {
      "cell_type": "code",
      "execution_count": null,
      "metadata": {
        "id": "kqtbsqHD0PFt"
      },
      "outputs": [],
      "source": [
        "model.compile(optimizer = tf.keras.optimizers.Adam(),\n",
        "              loss=tf.keras.losses.SparseCategoricalCrossentropy(from_logits=True))"
      ]
    },
    {
      "cell_type": "code",
      "execution_count": null,
      "metadata": {
        "id": "zmd_dY_Z0PFt",
        "outputId": "56ea5681-fb01-4ce8-9259-aa9fc777b3ca"
      },
      "outputs": [
        {
          "name": "stdout",
          "output_type": "stream",
          "text": [
            "172/172 [==============================] - 260s 1s/step - loss: 2.7377\n"
          ]
        },
        {
          "data": {
            "text/plain": [
              "<keras.src.callbacks.History at 0x7f3150635cc0>"
            ]
          },
          "execution_count": 125,
          "metadata": {},
          "output_type": "execute_result"
        }
      ],
      "source": [
        "model.fit(dataset, epochs=1)"
      ]
    },
    {
      "cell_type": "code",
      "execution_count": null,
      "metadata": {
        "id": "EDh1pWYn0PFt",
        "outputId": "a6918743-c14b-4a55-ffd6-207a43c902fd"
      },
      "outputs": [
        {
          "name": "stdout",
          "output_type": "stream",
          "text": [
            "Epoch 1 Batch 0 Loss 2.1874\n",
            "Epoch 1 Batch 50 Loss 2.0520\n",
            "Epoch 1 Batch 100 Loss 1.9436\n",
            "Epoch 1 Batch 150 Loss 1.8370\n",
            "\n",
            "Epoch 1 Loss: 2.0003\n",
            "Time taken for 1 epoch 307.76 sec\n",
            "________________________________________________________________________________\n",
            "Epoch 2 Batch 0 Loss 1.8212\n",
            "Epoch 2 Batch 50 Loss 1.7710\n",
            "Epoch 2 Batch 100 Loss 1.7348\n",
            "Epoch 2 Batch 150 Loss 1.6757\n",
            "\n",
            "Epoch 2 Loss: 1.7168\n",
            "Time taken for 1 epoch 314.27 sec\n",
            "________________________________________________________________________________\n",
            "Epoch 3 Batch 0 Loss 1.6129\n",
            "Epoch 3 Batch 50 Loss 1.5669\n",
            "Epoch 3 Batch 100 Loss 1.5553\n",
            "Epoch 3 Batch 150 Loss 1.5135\n",
            "\n",
            "Epoch 3 Loss: 1.5534\n",
            "Time taken for 1 epoch 186.16 sec\n",
            "________________________________________________________________________________\n",
            "Epoch 4 Batch 0 Loss 1.4799\n",
            "Epoch 4 Batch 50 Loss 1.4872\n",
            "Epoch 4 Batch 100 Loss 1.4182\n",
            "Epoch 4 Batch 150 Loss 1.4431\n",
            "\n",
            "Epoch 4 Loss: 1.4529\n",
            "Time taken for 1 epoch 150.15 sec\n",
            "________________________________________________________________________________\n",
            "Epoch 5 Batch 0 Loss 1.4259\n",
            "Epoch 5 Batch 50 Loss 1.4449\n",
            "Epoch 5 Batch 100 Loss 1.3721\n",
            "Epoch 5 Batch 150 Loss 1.4110\n",
            "\n",
            "Epoch 5 Loss: 1.3830\n",
            "Time taken for 1 epoch 150.70 sec\n",
            "________________________________________________________________________________\n",
            "Epoch 6 Batch 0 Loss 1.2999\n",
            "Epoch 6 Batch 50 Loss 1.3339\n",
            "Epoch 6 Batch 100 Loss 1.3467\n",
            "Epoch 6 Batch 150 Loss 1.3107\n",
            "\n",
            "Epoch 6 Loss: 1.3306\n",
            "Time taken for 1 epoch 150.14 sec\n",
            "________________________________________________________________________________\n",
            "Epoch 7 Batch 0 Loss 1.2501\n",
            "Epoch 7 Batch 50 Loss 1.2714\n",
            "Epoch 7 Batch 100 Loss 1.3255\n",
            "Epoch 7 Batch 150 Loss 1.3221\n",
            "\n",
            "Epoch 7 Loss: 1.2846\n",
            "Time taken for 1 epoch 149.85 sec\n",
            "________________________________________________________________________________\n",
            "Epoch 8 Batch 0 Loss 1.2107\n",
            "Epoch 8 Batch 50 Loss 1.2500\n",
            "Epoch 8 Batch 100 Loss 1.2710\n",
            "Epoch 8 Batch 150 Loss 1.2779\n",
            "\n",
            "Epoch 8 Loss: 1.2429\n",
            "Time taken for 1 epoch 249.24 sec\n",
            "________________________________________________________________________________\n",
            "Epoch 9 Batch 0 Loss 1.2187\n",
            "Epoch 9 Batch 50 Loss 1.1894\n",
            "Epoch 9 Batch 100 Loss 1.2245\n",
            "Epoch 9 Batch 150 Loss 1.2026\n",
            "\n",
            "Epoch 9 Loss: 1.2025\n",
            "Time taken for 1 epoch 264.82 sec\n",
            "________________________________________________________________________________\n",
            "Epoch 10 Batch 0 Loss 1.1057\n",
            "Epoch 10 Batch 50 Loss 1.1701\n",
            "Epoch 10 Batch 100 Loss 1.1305\n",
            "Epoch 10 Batch 150 Loss 1.1726\n",
            "\n",
            "Epoch 10 Loss: 1.1626\n",
            "Time taken for 1 epoch 224.22 sec\n",
            "________________________________________________________________________________\n"
          ]
        }
      ],
      "source": [
        "EPOCHS = 10\n",
        "\n",
        "mean = tf.metrics.Mean()\n",
        "\n",
        "for epoch in range(EPOCHS):\n",
        "        start = time.time()\n",
        "\n",
        "        mean.reset_states()\n",
        "        for (batch_n, (inp, target)) in enumerate(dataset):\n",
        "                logs = model.train_step([inp, target])\n",
        "                mean.update_state(logs['loss'])\n",
        "\n",
        "                if batch_n % 50 == 0:\n",
        "                        template = f\"Epoch {epoch+1} Batch {batch_n} Loss {logs['loss']:.4f}\"\n",
        "                        print(template)\n",
        "# saving (checkpoint) the model every 5 epochs\n",
        "        if (epoch + 1) % 5 == 0:\n",
        "                model.save_weights(checkpoint_prefix.format(epoch=epoch))\n",
        "\n",
        "        print()\n",
        "        print(f'Epoch {epoch+1} Loss: {mean.result().numpy():.4f}')\n",
        "        print(f'Time taken for 1 epoch {time.time() - start:.2f} sec')\n",
        "        print(\"_\"*80)\n",
        "\n",
        "model.save_weights(checkpoint_prefix.format(epoch=epoch))"
      ]
    },
    {
      "cell_type": "markdown",
      "source": [
        "Jalankan kode diatas dan sebutkan perbedaanya dengan praktikum 2?\n",
        "> Perbedaan kode diatas dengan praktikum 2 yaitu pada praktikum 2 tidak memberi kita banyak kendali atas pelatihan. praktikum 2 menggunakan \"teacher-forcing\" yang mencegah prediksi buruk diumpankan kembali ke model, sehingga model tidak pernah belajar untuk pulih dari kesalahan."
      ],
      "metadata": {
        "id": "8ESVjGKZ0rP8"
      }
    },
    {
      "cell_type": "code",
      "source": [],
      "metadata": {
        "id": "m-TN0uXk1JTz"
      },
      "execution_count": null,
      "outputs": []
    }
  ],
  "metadata": {
    "kernelspec": {
      "display_name": "Python 3 (ipykernel)",
      "language": "python",
      "name": "python3"
    },
    "language_info": {
      "codemirror_mode": {
        "name": "ipython",
        "version": 3
      },
      "file_extension": ".py",
      "mimetype": "text/x-python",
      "name": "python",
      "nbconvert_exporter": "python",
      "pygments_lexer": "ipython3",
      "version": "3.10.12"
    },
    "polyglot_notebook": {
      "kernelInfo": {
        "defaultKernelName": "csharp",
        "items": [
          {
            "aliases": [],
            "name": "csharp"
          }
        ]
      }
    },
    "colab": {
      "provenance": [],
      "include_colab_link": true
    }
  },
  "nbformat": 4,
  "nbformat_minor": 0
}